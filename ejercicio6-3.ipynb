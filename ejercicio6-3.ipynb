{
 "metadata": {
  "language_info": {
   "codemirror_mode": {
    "name": "ipython",
    "version": 3
   },
   "file_extension": ".py",
   "mimetype": "text/x-python",
   "name": "python",
   "nbconvert_exporter": "python",
   "pygments_lexer": "ipython3",
   "version": "3.7.2-final"
  },
  "orig_nbformat": 2,
  "kernelspec": {
   "name": "python_defaultSpec_1598824562503",
   "display_name": "Python 3.8.3 64-bit"
  }
 },
 "nbformat": 4,
 "nbformat_minor": 2,
 "cells": [
  {
   "cell_type": "markdown",
   "metadata": {},
   "source": [
    "# Laboratorio #4 - Análisis de sentimientos\n",
    "* Oscar Juárez - 17315\n",
    "* José Pablo Cifuentes - 17509\n",
    "* Paul Belches - 17088"
   ]
  },
  {
   "cell_type": "code",
   "execution_count": null,
   "metadata": {},
   "outputs": [],
   "source": [
    "import pandas as pd"
   ]
  },
  {
   "cell_type": "markdown",
   "metadata": {},
   "source": [
    "## Ejercicio 6\n",
    "\n"
   ]
  },
  {
   "cell_type": "code",
   "execution_count": null,
   "metadata": {},
   "outputs": [],
   "source": [
    "clean_df = pd.read_csv('./files/CleanData.csv')"
   ]
  },
  {
   "cell_type": "markdown",
   "metadata": {},
   "source": [
    "### Inciso 6.3\n",
    "Cuáles son los usuarios que dan la mayor cantidad de reviews a distintos productos."
   ]
  },
  {
   "cell_type": "code",
   "execution_count": null,
   "metadata": {
    "tags": []
   },
   "outputs": [],
   "source": [
    "# Diccionario de usuario -> producto\n",
    "prod_user = clean_df[['name', 'reviews.username']].copy().values"
   ]
  },
  {
   "cell_type": "markdown",
   "metadata": {},
   "source": [
    "Se crea un diccionario que tendrá al nombre del usuario como llave y la cantidad de productos comprados como valor."
   ]
  },
  {
   "cell_type": "code",
   "execution_count": null,
   "metadata": {
    "tags": []
   },
   "outputs": [],
   "source": [
    "# Diccionario de todos los usuarios distintos. El valor será un arreglo de productos, sin repetición.\n",
    "user_dict = {}\n",
    "\n",
    "for prod, user in prod_user:\n",
    "\n",
    "    # Si el usuario no está en el diccionario, agregarlo a él y el producto como valor.\n",
    "    if user not in user_dict: \n",
    "        user_dict[user] = []\n",
    "        user_dict[user].append(prod)\n",
    "\n",
    "    # Si el usuario sí está en el diccionario y el producto no está en su lista de productos, agregarlo.\n",
    "    elif prod not in user_dict[user]:\n",
    "        user_dict[user].append(prod)\n",
    "\n",
    "# Ahora, cambiar los productos comprados por la cantidad de productos.\n",
    "for user, products in user_dict.items():\n",
    "    user_dict[user] = len(products)"
   ]
  },
  {
   "cell_type": "markdown",
   "metadata": {},
   "source": [
    "Se ordena el arreglo en base a los productos"
   ]
  },
  {
   "cell_type": "code",
   "execution_count": null,
   "metadata": {},
   "outputs": [],
   "source": [
    "ordered = sorted(user_dict.items(), key=lambda x: x[1], reverse=True)"
   ]
  },
  {
   "cell_type": "markdown",
   "metadata": {},
   "source": [
    "Se imprimen la primeras 7 posiciones"
   ]
  },
  {
   "cell_type": "code",
   "execution_count": null,
   "metadata": {
    "tags": []
   },
   "outputs": [],
   "source": [
    "print(ordered[0:7])"
   ]
  },
  {
   "cell_type": "markdown",
   "metadata": {},
   "source": [
    "#### Respuesta:\n",
    "\n",
    "Sin tomar en cuenta a los clientes \"Anónimos\":\n",
    "\n",
    "1. Mike: 29 productos\n",
    "2. Chris: 27 productos\n",
    "3. Sandy: 23 productos\n",
    "4. John: 23 productos\n",
    "5. lisa: 22 productos"
   ]
  },
  {
   "cell_type": "markdown",
   "metadata": {},
   "source": [
    "### Inciso 6.4\n",
    "Cuáles son los usuarios que más reviews negativos y positivos dan en promedio."
   ]
  },
  {
   "cell_type": "markdown",
   "metadata": {},
   "source": [
    "Primero se lee el dataset y se cuenta la frecuencia de cada usuario:"
   ]
  },
  {
   "cell_type": "code",
   "execution_count": 1,
   "metadata": {
    "tags": []
   },
   "outputs": [
    {
     "output_type": "stream",
     "name": "stderr",
     "text": "[nltk_data] Downloading package vader_lexicon to\n[nltk_data]     C:\\Users\\wuser\\AppData\\Roaming\\nltk_data...\n[nltk_data]   Package vader_lexicon is already up-to-date!\n"
    }
   ],
   "source": [
    "from csv import reader\n",
    "from PerWordAnalisys import *\n",
    "\n",
    "#6.4  Cuáles son los usuarios que más reviews negativos y positivos dan en promedio.\n",
    "\n",
    "usuariosPositivos={}\n",
    "usuariosNegativos={}\n",
    "usuariosTotales={}\n",
    "\n",
    "# open file in read mode\n",
    "with open('./files/CleanData.csv', encoding=\"utf8\") as read_obj:\n",
    "\t# pass the file object to reader() to get the reader object\n",
    "\tcsv_reader = reader(read_obj)\n",
    "\n",
    "\tcontador=0\n",
    "\n",
    "\t# Iterate over each row in the csv using reader object\n",
    "\tfor row in csv_reader:\n",
    "\n",
    "\t\tif(contador==0):\n",
    "\t\t\tcontador+=1\n",
    "\t\t\tcontinue\n",
    "\t\t\n",
    "\t\tsentimiento=perWordAnalisys(row[-1])\n",
    "\t\tif(sentimiento>0):\n",
    "\t\t\t#Positivo\n",
    "\t\t\ttry:\n",
    "\t\t\t\tusuariosPositivos[row[3]]+=1\n",
    "\t\t\t\tusuariosTotales[row[3]]+=1\n",
    "\t\t\texcept Exception as e:\n",
    "\t\t\t\tusuariosPositivos[row[3]]=1\n",
    "\t\t\t\tusuariosTotales[row[3]]=1\n",
    "\t\t\t\n",
    "\t\t\t\n",
    "\t\telif(sentimiento<0):\n",
    "\t\t\ttry:\n",
    "\t\t\t\tusuariosNegativos[row[3]]+=1\n",
    "\t\t\t\tusuariosTotales[row[3]]+=1\n",
    "\t\t\texcept Exception as e:\n",
    "\t\t\t\tusuariosNegativos[row[3]]=1\n",
    "\t\t\t\tusuariosTotales[row[3]]=1\n",
    "\t\t\n",
    "\t\t\t\n",
    "\t\tcontador+=1"
   ]
  },
  {
   "cell_type": "markdown",
   "metadata": {},
   "source": [
    "Luego, se saca el promedio para cada usuario"
   ]
  },
  {
   "cell_type": "code",
   "execution_count": 2,
   "metadata": {},
   "outputs": [],
   "source": [
    "for usuario in usuariosTotales:\n",
    "\ttry:\n",
    "\t\tusuariosPositivos[usuario]/=usuariosTotales[usuario]\t\t\n",
    "\texcept Exception as e:\n",
    "\t\tpass\n",
    "\n",
    "\ttry:\n",
    "\t\tusuariosNegativos[usuario]/=usuariosTotales[usuario]\t\t\n",
    "\texcept Exception as e:\n",
    "\t\tpass"
   ]
  },
  {
   "cell_type": "markdown",
   "metadata": {},
   "source": [
    "Finalmente se ordena y se imprimen top 5 usuarios de cada categoría"
   ]
  },
  {
   "cell_type": "code",
   "execution_count": 3,
   "metadata": {
    "tags": []
   },
   "outputs": [
    {
     "output_type": "stream",
     "name": "stdout",
     "text": "Top 5 usuarios que más reviews positivos dan en promedio:\n('', 17.25)\n('Sara', 8.0)\n('Dawn', 6.0)\n('Teresa', 5.5)\n('Tammy', 5.0)\n\nTop 5 usuarios que más reviews negativos dan en promedio:\n('Cuca', 2.0)\n('Nessa', 2.0)\n('Walker557', 1.0)\n('Jo276', 1.0)\n('Star33', 1.0)\n"
    }
   ],
   "source": [
    "dictSortedPositivos=sorted(usuariosPositivos.items(), key=lambda x: x[1],reverse=True)\n",
    "print(\"Top 5 usuarios que más reviews positivos dan en promedio:\")\n",
    "control=0\n",
    "for i in dictSortedPositivos:\n",
    "\tcontrol+=1\n",
    "\tprint(i)\n",
    "\tif(control==5):\n",
    "\t\tbreak\n",
    "print()\n",
    "dictSortedNegativos=sorted(usuariosNegativos.items(), key=lambda x: x[1],reverse=True)\n",
    "print(\"Top 5 usuarios que más reviews negativos dan en promedio:\")\n",
    "control=0\n",
    "for i in dictSortedNegativos:\n",
    "\tcontrol+=1\n",
    "\tprint(i)\n",
    "\tif(control==5):\n",
    "\t\tbreak"
   ]
  },
  {
   "cell_type": "code",
   "execution_count": null,
   "metadata": {},
   "outputs": [],
   "source": []
  }
 ]
}