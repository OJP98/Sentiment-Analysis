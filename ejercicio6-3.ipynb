{
 "metadata": {
  "language_info": {
   "codemirror_mode": {
    "name": "ipython",
    "version": 3
   },
   "file_extension": ".py",
   "mimetype": "text/x-python",
   "name": "python",
   "nbconvert_exporter": "python",
   "pygments_lexer": "ipython3",
   "version": "3.8.3-final"
  },
  "orig_nbformat": 2,
  "kernelspec": {
   "name": "python_defaultSpec_1598623067042",
   "display_name": "Python 3.8.3 64-bit"
  }
 },
 "nbformat": 4,
 "nbformat_minor": 2,
 "cells": [
  {
   "cell_type": "markdown",
   "metadata": {},
   "source": [
    "# Laboratorio #4 - Análisis de sentimientos\n",
    "* Oscar Juárez - 17315\n",
    "* José Pablo Cifuentes - 17509\n",
    "* Paul Belches - 17088"
   ]
  },
  {
   "cell_type": "code",
   "execution_count": null,
   "metadata": {},
   "outputs": [],
   "source": [
    "import pandas as pd"
   ]
  },
  {
   "cell_type": "markdown",
   "metadata": {},
   "source": [
    "## Ejercicio 6\n",
    "\n"
   ]
  },
  {
   "cell_type": "code",
   "execution_count": null,
   "metadata": {},
   "outputs": [],
   "source": [
    "clean_df = pd.read_csv('./files/CleanData.csv')"
   ]
  },
  {
   "cell_type": "markdown",
   "metadata": {},
   "source": [
    "### Inciso 6.3\n",
    "Cuáles son los usuarios que dan la mayor cantidad de reviews a distintos productos."
   ]
  },
  {
   "cell_type": "code",
   "execution_count": null,
   "metadata": {
    "tags": []
   },
   "outputs": [],
   "source": [
    "# Diccionario de usuario -> producto\n",
    "prod_user = clean_df[['name', 'reviews.username']].copy().values"
   ]
  },
  {
   "cell_type": "markdown",
   "metadata": {},
   "source": [
    "Se crea un diccionario que tendrá al nombre del usuario como llave y la cantidad de productos comprados como valor."
   ]
  },
  {
   "cell_type": "code",
   "execution_count": null,
   "metadata": {
    "tags": []
   },
   "outputs": [],
   "source": [
    "# Diccionario de todos los usuarios distintos. El valor será un arreglo de productos, sin repetición.\n",
    "user_dict = {}\n",
    "\n",
    "for prod, user in prod_user:\n",
    "\n",
    "    # Si el usuario no está en el diccionario, agregarlo a él y el producto como valor.\n",
    "    if user not in user_dict: \n",
    "        user_dict[user] = []\n",
    "        user_dict[user].append(prod)\n",
    "\n",
    "    # Si el usuario sí está en el diccionario y el producto no está en su lista de productos, agregarlo.\n",
    "    elif prod not in user_dict[user]:\n",
    "        user_dict[user].append(prod)\n",
    "\n",
    "# Ahora, cambiar los productos comprados por la cantidad de productos.\n",
    "for user, products in user_dict.items():\n",
    "    user_dict[user] = len(products)"
   ]
  },
  {
   "cell_type": "markdown",
   "metadata": {},
   "source": [
    "Se ordena el arreglo en base a los productos"
   ]
  },
  {
   "cell_type": "code",
   "execution_count": null,
   "metadata": {},
   "outputs": [],
   "source": [
    "ordered = sorted(user_dict.items(), key=lambda x: x[1], reverse=True)"
   ]
  },
  {
   "cell_type": "markdown",
   "metadata": {},
   "source": [
    "Se imprimen la primeras 7 posiciones"
   ]
  },
  {
   "cell_type": "code",
   "execution_count": null,
   "metadata": {
    "tags": []
   },
   "outputs": [],
   "source": [
    "print(ordered[0:7])"
   ]
  },
  {
   "cell_type": "markdown",
   "metadata": {},
   "source": [
    "#### Respuesta:\n",
    "\n",
    "Sin tomar en cuenta a los clientes \"Anónimos\":\n",
    "\n",
    "1. Mike: 29 productos\n",
    "2. Chris: 27 productos\n",
    "3. Sandy: 23 productos\n",
    "4. John: 23 productos\n",
    "5. lisa: 22 productos"
   ]
  }
 ]
}