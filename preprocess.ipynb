{
 "cells": [
  {
   "cell_type": "markdown",
   "metadata": {},
   "source": [
    "# Laboratorio #4 - Análisis de sentimientos\n",
    "* Oscar Juárez - 17315\n",
    "* José Pablo Cifuentes - 17509\n",
    "* Paul Belches - 17088"
   ]
  },
  {
   "cell_type": "code",
   "execution_count": 1,
   "metadata": {},
   "outputs": [],
   "source": [
    "import pandas as pd\n",
    "import numpy as np\n",
    "import math\n",
    "import re"
   ]
  },
  {
   "cell_type": "code",
   "execution_count": 2,
   "metadata": {
    "tags": []
   },
   "outputs": [
    {
     "output_type": "stream",
     "name": "stdout",
     "text": "['id', 'brand', 'categories', 'dateAdded', 'dateUpdated', 'ean', 'keys', 'manufacturer', 'manufacturerNumber', 'name', 'reviews.date', 'reviews.dateAdded', 'reviews.dateSeen', 'reviews.didPurchase', 'reviews.doRecommend', 'reviews.id', 'reviews.numHelpful', 'reviews.rating', 'reviews.sourceURLs', 'reviews.text', 'reviews.title', 'reviews.userCity', 'reviews.userProvince', 'reviews.username', 'upc']\n"
    }
   ],
   "source": [
    "df = pd.read_csv('./files/GrammarandProductReviews.csv')\n",
    "print([var for var in df])"
   ]
  },
  {
   "cell_type": "code",
   "execution_count": 3,
   "metadata": {
    "tags": []
   },
   "outputs": [
    {
     "output_type": "execute_result",
     "data": {
      "text/plain": "                 brand                        manufacturer  \\\n0      Universal Music  Universal Music Group / Cash Money   \n1             Lundberg                            Lundberg   \n2             Lundberg                            Lundberg   \n3                  K-Y                                 K-Y   \n4                  K-Y                                 K-Y   \n5                  K-Y                                 K-Y   \n6                  K-Y                                 K-Y   \n7                  K-Y                                 K-Y   \n8                  K-Y                                 K-Y   \n9                  K-Y                                 K-Y   \n10                 K-Y                                 K-Y   \n11                 K-Y                                 K-Y   \n12                 K-Y                                 K-Y   \n13                 K-Y                                 K-Y   \n14                 K-Y                                 K-Y   \n15                 K-Y                                 K-Y   \n16                 K-Y                                 K-Y   \n17                 K-Y                                 K-Y   \n18                 K-Y                                 K-Y   \n19                 K-Y                                 K-Y   \n20                 K-Y                                 K-Y   \n21                 K-Y                                 K-Y   \n22                 K-Y                                 K-Y   \n23                 K-Y                                 K-Y   \n24                 K-Y                                 K-Y   \n25                 K-Y                                 K-Y   \n26                 K-Y                                 K-Y   \n27                 K-Y                                 K-Y   \n28                 K-Y                                 K-Y   \n29                 K-Y                                 K-Y   \n...                ...                                 ...   \n71014        Opti-Free                           Opti-Free   \n71015        Opti-Free                           Opti-Free   \n71016        Opti-Free                           Opti-Free   \n71017        Opti-Free                           Opti-Free   \n71018        Opti-Free                           Opti-Free   \n71019        Opti-Free                           Opti-Free   \n71020        Opti-Free                           Opti-Free   \n71021        Opti-Free                           Opti-Free   \n71022        Opti-Free                           Opti-Free   \n71023        Opti-Free                           Opti-Free   \n71024        Opti-Free                           Opti-Free   \n71025        Opti-Free                           Opti-Free   \n71026        Opti-Free                           Opti-Free   \n71027        Opti-Free                           Opti-Free   \n71028        Opti-Free                           Opti-Free   \n71029        Opti-Free                           Opti-Free   \n71030        Opti-Free                           Opti-Free   \n71031        Opti-Free                           Opti-Free   \n71032        Opti-Free                           Opti-Free   \n71033        Opti-Free                           Opti-Free   \n71034        Opti-Free                           Opti-Free   \n71035        Opti-Free                           Opti-Free   \n71036        Opti-Free                           Opti-Free   \n71037        Opti-Free                           Opti-Free   \n71038        Opti-Free                           Opti-Free   \n71039        Opti-Free                           Opti-Free   \n71040        Opti-Free                           Opti-Free   \n71041        Opti-Free                           Opti-Free   \n71042     Bebe Au Lait                        Bebe au Lait   \n71043             UMGD                             Def Jam   \n\n                                                    name     reviews.username  \\\n0              Pink Friday: Roman Reloaded Re-Up (w/dvd)               Joshua   \n1             Lundberg Organic Cinnamon Toast Rice Cakes            Dorothy W   \n2             Lundberg Organic Cinnamon Toast Rice Cakes            Dorothy W   \n3                       K-Y Love Sensuality Pleasure Gel              Rebecca   \n4                       K-Y Love Sensuality Pleasure Gel            Walker557   \n5                       K-Y Love Sensuality Pleasure Gel             Samantha   \n6                       K-Y Love Sensuality Pleasure Gel              Raeanne   \n7                       K-Y Love Sensuality Pleasure Gel               Kimmie   \n8                       K-Y Love Sensuality Pleasure Gel               cassie   \n9                       K-Y Love Sensuality Pleasure Gel             Moore222   \n10                      K-Y Love Sensuality Pleasure Gel              jds1992   \n11                      K-Y Love Sensuality Pleasure Gel               Bre234   \n12                      K-Y Love Sensuality Pleasure Gel              jds1992   \n13                      K-Y Love Sensuality Pleasure Gel             Gordy313   \n14                      K-Y Love Sensuality Pleasure Gel               Nicole   \n15                      K-Y Love Sensuality Pleasure Gel              Cvperez   \n16                      K-Y Love Sensuality Pleasure Gel          Beccagrl532   \n17                      K-Y Love Sensuality Pleasure Gel              sanchez   \n18                      K-Y Love Sensuality Pleasure Gel                 LL24   \n19                      K-Y Love Sensuality Pleasure Gel           Browns fan   \n20                      K-Y Love Sensuality Pleasure Gel  Just Faith everyday   \n21                      K-Y Love Sensuality Pleasure Gel                 vero   \n22                      K-Y Love Sensuality Pleasure Gel                Jo276   \n23                      K-Y Love Sensuality Pleasure Gel             Ashley A   \n24                      K-Y Love Sensuality Pleasure Gel                 Jp71   \n25                      K-Y Love Sensuality Pleasure Gel                Jkell   \n26                      K-Y Love Sensuality Pleasure Gel                Karen   \n27                      K-Y Love Sensuality Pleasure Gel               Warren   \n28                      K-Y Love Sensuality Pleasure Gel              Mas0814   \n29                      K-Y Love Sensuality Pleasure Gel               Amanda   \n...                                                  ...                  ...   \n71014  Opti-Free Puremoist Disinfecting Solution 10fl Oz                 KCDC   \n71015  Opti-Free Puremoist Disinfecting Solution 10fl Oz             BarbaraB   \n71016  Opti-Free Puremoist Disinfecting Solution 10fl Oz          evansjejune   \n71017  Opti-Free Puremoist Disinfecting Solution 10fl Oz                 Jack   \n71018  Opti-Free Puremoist Disinfecting Solution 10fl Oz           BittyBetsy   \n71019  Opti-Free Puremoist Disinfecting Solution 10fl Oz              Susan C   \n71020  Opti-Free Puremoist Disinfecting Solution 10fl Oz            redheeler   \n71021  Opti-Free Puremoist Disinfecting Solution 10fl Oz         Momof4kiddos   \n71022  Opti-Free Puremoist Disinfecting Solution 10fl Oz              shopper   \n71023  Opti-Free Puremoist Disinfecting Solution 10fl Oz              Shelley   \n71024  Opti-Free Puremoist Disinfecting Solution 10fl Oz         Melissaraeby   \n71025  Opti-Free Puremoist Disinfecting Solution 10fl Oz                KimiO   \n71026  Opti-Free Puremoist Disinfecting Solution 10fl Oz             Margaret   \n71027  Opti-Free Puremoist Disinfecting Solution 10fl Oz        Kentuckynurse   \n71028  Opti-Free Puremoist Disinfecting Solution 10fl Oz          Monkeygirl5   \n71029  Opti-Free Puremoist Disinfecting Solution 10fl Oz               TammyB   \n71030  Opti-Free Puremoist Disinfecting Solution 10fl Oz               Jfrezz   \n71031  Opti-Free Puremoist Disinfecting Solution 10fl Oz        LuluDownSouth   \n71032  Opti-Free Puremoist Disinfecting Solution 10fl Oz          RugbyWing16   \n71033  Opti-Free Puremoist Disinfecting Solution 10fl Oz               ui3354   \n71034  Opti-Free Puremoist Disinfecting Solution 10fl Oz               Jennya   \n71035  Opti-Free Puremoist Disinfecting Solution 10fl Oz                Jayme   \n71036  Opti-Free Puremoist Disinfecting Solution 10fl Oz                 Mike   \n71037  Opti-Free Puremoist Disinfecting Solution 10fl Oz              Tootsie   \n71038  Opti-Free Puremoist Disinfecting Solution 10fl Oz              Alexios   \n71039  Opti-Free Puremoist Disinfecting Solution 10fl Oz            Seniorgal   \n71040  Opti-Free Puremoist Disinfecting Solution 10fl Oz               Nammaw   \n71041  Opti-Free Puremoist Disinfecting Solution 10fl Oz             LDBoston   \n71042  Bebe Au Lait174 Premium Muslin Nursing Scarf -...             Vanessag   \n71043        Justin Bieber - Under The Mistletoe (vinyl)      Chrismas Bieber   \n\n      reviews.didPurchase reviews.doRecommend  reviews.rating  \\\n0                     NaN                 NaN               5   \n1                    True                 NaN               5   \n2                    True                 NaN               5   \n3                   False               False               1   \n4                   False               False               1   \n5                   False               False               1   \n6                   False               False               1   \n7                   False               False               1   \n8                   False               False               1   \n9                   False               False               1   \n10                  False               False               1   \n11                  False               False               1   \n12                  False               False               1   \n13                  False               False               1   \n14                  False               False               1   \n15                  False               False               1   \n16                  False                 NaN               1   \n17                  False               False               1   \n18                   True                True               3   \n19                  False               False               3   \n20                  False                True               4   \n21                  False                True               4   \n22                  False                True               4   \n23                   True                 NaN               5   \n24                   True                True               5   \n25                  False                True               5   \n26                  False                True               5   \n27                  False                True               5   \n28                  False                True               5   \n29                  False                True               5   \n...                   ...                 ...             ...   \n71014               False                True               5   \n71015               False                True               5   \n71016               False                True               5   \n71017               False                True               5   \n71018               False                True               5   \n71019                True                 NaN               5   \n71020                True                True               5   \n71021                True                True               5   \n71022               False                True               5   \n71023               False                True               5   \n71024               False                True               5   \n71025                True                True               5   \n71026                True                True               5   \n71027               False                True               5   \n71028               False                True               5   \n71029               False                True               5   \n71030               False                True               5   \n71031               False                True               5   \n71032               False                True               5   \n71033               False                True               5   \n71034               False                True               5   \n71035                True                True               5   \n71036               False                True               5   \n71037               False                True               5   \n71038               False                True               5   \n71039               False                True               5   \n71040               False                True               5   \n71041               False                True               5   \n71042                 NaN                True               5   \n71043                 NaN                True               5   \n\n                                            reviews.text  \n0      i love this album. it's very good. more to the...  \n1      Good flavor. This review was collected as part...  \n2                                           Good flavor.  \n3      I read through the reviews on here before look...  \n4      My husband bought this gel for us. The gel cau...  \n5      My boyfriend and I bought this to spice things...  \n6      Bought this earlier today and was excited to c...  \n7      I bought this product for my husband and I to ...  \n8      My husband and I bought this for some extra fu...  \n9      Got as a surprise for my husband there is noth...  \n10     tried it with my husband and felt no different...  \n11     Purchased this thinking it would have some sor...  \n12     Bought this to enhance our time a bit, did abs...  \n13     I bought this after really liking the his n he...  \n14     First time purchase of this type of product. M...  \n15     I bought this and tried this with my wife but ...  \n16     I bought this product to spice things up with ...  \n17     I bought this to try to spice things up, but I...  \n18     I bought this because it had better reviews th...  \n19     It was my first time using k-y. It didn't do a...  \n20     I noticed this product on clearance at a store...  \n21     I used this product a couple of times since i ...  \n22     Used a few times stays a bit sticky but not to...  \n23     Loved This review was collected as part of a p...  \n24     This is a good product. Will give you a great ...  \n25     I really enjoyed using this product with my hu...  \n26     Awesome Product for couples. It is a warm feel...  \n27     Exceptional product, this is smooth, not slimy...  \n28     I used this for the first time with my boyfrie...  \n29     Great product! Exactly what it says works very...  \n...                                                  ...  \n71014  I have dry eyes and none of the generic stuff ...  \n71015  This is a great product that provides all day ...  \n71016                                      Great product  \n71017                       It's Best saline I've tried.  \n71018  this product does not burn it does a great job...  \n71019  Awesome cleaning solutions for contacts This r...  \n71020  I recommend this for people with dry eye who s...  \n71021  This is the only contact solution I use. I hav...  \n71022      One of the best contact solutions I have used  \n71023  I've had trouble the past few years with my co...  \n71024  This is the only stuff my daughter will use. I...  \n71025  This is great for using daily to disinfect you...  \n71026                                Worked wonderful !!  \n71027  I am always satisfied with this contact soluti...  \n71028  I buy this for my daughter who wears contacts....  \n71029                                        Works great  \n71030  Very good at keeping contact lenses clean and ...  \n71031  I bought this brand mainly because it came in ...  \n71032  I bought 2 of these thinking I would run out o...  \n71033  This contact solution is wonderful and does an...  \n71034  I have used this for a while now with great su...  \n71035  Cleanses contacts to keep them fresh clean for...  \n71036                                      Great product  \n71037                                         Great item  \n71038  Since I've starting wearing my contacts full-t...  \n71039  I'm dealing with dry eyes and very sensitive t...  \n71040  Great stuff! Helps keep my contacts moist all ...  \n71041                                        Right price  \n71042  I was so pleased when this scarf arrived for m...  \n71043  Excellent album, makes the holidays better, gi...  \n\n[71044 rows x 8 columns]",
      "text/html": "<div>\n<style scoped>\n    .dataframe tbody tr th:only-of-type {\n        vertical-align: middle;\n    }\n\n    .dataframe tbody tr th {\n        vertical-align: top;\n    }\n\n    .dataframe thead th {\n        text-align: right;\n    }\n</style>\n<table border=\"1\" class=\"dataframe\">\n  <thead>\n    <tr style=\"text-align: right;\">\n      <th></th>\n      <th>brand</th>\n      <th>manufacturer</th>\n      <th>name</th>\n      <th>reviews.username</th>\n      <th>reviews.didPurchase</th>\n      <th>reviews.doRecommend</th>\n      <th>reviews.rating</th>\n      <th>reviews.text</th>\n    </tr>\n  </thead>\n  <tbody>\n    <tr>\n      <th>0</th>\n      <td>Universal Music</td>\n      <td>Universal Music Group / Cash Money</td>\n      <td>Pink Friday: Roman Reloaded Re-Up (w/dvd)</td>\n      <td>Joshua</td>\n      <td>NaN</td>\n      <td>NaN</td>\n      <td>5</td>\n      <td>i love this album. it's very good. more to the...</td>\n    </tr>\n    <tr>\n      <th>1</th>\n      <td>Lundberg</td>\n      <td>Lundberg</td>\n      <td>Lundberg Organic Cinnamon Toast Rice Cakes</td>\n      <td>Dorothy W</td>\n      <td>True</td>\n      <td>NaN</td>\n      <td>5</td>\n      <td>Good flavor. This review was collected as part...</td>\n    </tr>\n    <tr>\n      <th>2</th>\n      <td>Lundberg</td>\n      <td>Lundberg</td>\n      <td>Lundberg Organic Cinnamon Toast Rice Cakes</td>\n      <td>Dorothy W</td>\n      <td>True</td>\n      <td>NaN</td>\n      <td>5</td>\n      <td>Good flavor.</td>\n    </tr>\n    <tr>\n      <th>3</th>\n      <td>K-Y</td>\n      <td>K-Y</td>\n      <td>K-Y Love Sensuality Pleasure Gel</td>\n      <td>Rebecca</td>\n      <td>False</td>\n      <td>False</td>\n      <td>1</td>\n      <td>I read through the reviews on here before look...</td>\n    </tr>\n    <tr>\n      <th>4</th>\n      <td>K-Y</td>\n      <td>K-Y</td>\n      <td>K-Y Love Sensuality Pleasure Gel</td>\n      <td>Walker557</td>\n      <td>False</td>\n      <td>False</td>\n      <td>1</td>\n      <td>My husband bought this gel for us. The gel cau...</td>\n    </tr>\n    <tr>\n      <th>5</th>\n      <td>K-Y</td>\n      <td>K-Y</td>\n      <td>K-Y Love Sensuality Pleasure Gel</td>\n      <td>Samantha</td>\n      <td>False</td>\n      <td>False</td>\n      <td>1</td>\n      <td>My boyfriend and I bought this to spice things...</td>\n    </tr>\n    <tr>\n      <th>6</th>\n      <td>K-Y</td>\n      <td>K-Y</td>\n      <td>K-Y Love Sensuality Pleasure Gel</td>\n      <td>Raeanne</td>\n      <td>False</td>\n      <td>False</td>\n      <td>1</td>\n      <td>Bought this earlier today and was excited to c...</td>\n    </tr>\n    <tr>\n      <th>7</th>\n      <td>K-Y</td>\n      <td>K-Y</td>\n      <td>K-Y Love Sensuality Pleasure Gel</td>\n      <td>Kimmie</td>\n      <td>False</td>\n      <td>False</td>\n      <td>1</td>\n      <td>I bought this product for my husband and I to ...</td>\n    </tr>\n    <tr>\n      <th>8</th>\n      <td>K-Y</td>\n      <td>K-Y</td>\n      <td>K-Y Love Sensuality Pleasure Gel</td>\n      <td>cassie</td>\n      <td>False</td>\n      <td>False</td>\n      <td>1</td>\n      <td>My husband and I bought this for some extra fu...</td>\n    </tr>\n    <tr>\n      <th>9</th>\n      <td>K-Y</td>\n      <td>K-Y</td>\n      <td>K-Y Love Sensuality Pleasure Gel</td>\n      <td>Moore222</td>\n      <td>False</td>\n      <td>False</td>\n      <td>1</td>\n      <td>Got as a surprise for my husband there is noth...</td>\n    </tr>\n    <tr>\n      <th>10</th>\n      <td>K-Y</td>\n      <td>K-Y</td>\n      <td>K-Y Love Sensuality Pleasure Gel</td>\n      <td>jds1992</td>\n      <td>False</td>\n      <td>False</td>\n      <td>1</td>\n      <td>tried it with my husband and felt no different...</td>\n    </tr>\n    <tr>\n      <th>11</th>\n      <td>K-Y</td>\n      <td>K-Y</td>\n      <td>K-Y Love Sensuality Pleasure Gel</td>\n      <td>Bre234</td>\n      <td>False</td>\n      <td>False</td>\n      <td>1</td>\n      <td>Purchased this thinking it would have some sor...</td>\n    </tr>\n    <tr>\n      <th>12</th>\n      <td>K-Y</td>\n      <td>K-Y</td>\n      <td>K-Y Love Sensuality Pleasure Gel</td>\n      <td>jds1992</td>\n      <td>False</td>\n      <td>False</td>\n      <td>1</td>\n      <td>Bought this to enhance our time a bit, did abs...</td>\n    </tr>\n    <tr>\n      <th>13</th>\n      <td>K-Y</td>\n      <td>K-Y</td>\n      <td>K-Y Love Sensuality Pleasure Gel</td>\n      <td>Gordy313</td>\n      <td>False</td>\n      <td>False</td>\n      <td>1</td>\n      <td>I bought this after really liking the his n he...</td>\n    </tr>\n    <tr>\n      <th>14</th>\n      <td>K-Y</td>\n      <td>K-Y</td>\n      <td>K-Y Love Sensuality Pleasure Gel</td>\n      <td>Nicole</td>\n      <td>False</td>\n      <td>False</td>\n      <td>1</td>\n      <td>First time purchase of this type of product. M...</td>\n    </tr>\n    <tr>\n      <th>15</th>\n      <td>K-Y</td>\n      <td>K-Y</td>\n      <td>K-Y Love Sensuality Pleasure Gel</td>\n      <td>Cvperez</td>\n      <td>False</td>\n      <td>False</td>\n      <td>1</td>\n      <td>I bought this and tried this with my wife but ...</td>\n    </tr>\n    <tr>\n      <th>16</th>\n      <td>K-Y</td>\n      <td>K-Y</td>\n      <td>K-Y Love Sensuality Pleasure Gel</td>\n      <td>Beccagrl532</td>\n      <td>False</td>\n      <td>NaN</td>\n      <td>1</td>\n      <td>I bought this product to spice things up with ...</td>\n    </tr>\n    <tr>\n      <th>17</th>\n      <td>K-Y</td>\n      <td>K-Y</td>\n      <td>K-Y Love Sensuality Pleasure Gel</td>\n      <td>sanchez</td>\n      <td>False</td>\n      <td>False</td>\n      <td>1</td>\n      <td>I bought this to try to spice things up, but I...</td>\n    </tr>\n    <tr>\n      <th>18</th>\n      <td>K-Y</td>\n      <td>K-Y</td>\n      <td>K-Y Love Sensuality Pleasure Gel</td>\n      <td>LL24</td>\n      <td>True</td>\n      <td>True</td>\n      <td>3</td>\n      <td>I bought this because it had better reviews th...</td>\n    </tr>\n    <tr>\n      <th>19</th>\n      <td>K-Y</td>\n      <td>K-Y</td>\n      <td>K-Y Love Sensuality Pleasure Gel</td>\n      <td>Browns fan</td>\n      <td>False</td>\n      <td>False</td>\n      <td>3</td>\n      <td>It was my first time using k-y. It didn't do a...</td>\n    </tr>\n    <tr>\n      <th>20</th>\n      <td>K-Y</td>\n      <td>K-Y</td>\n      <td>K-Y Love Sensuality Pleasure Gel</td>\n      <td>Just Faith everyday</td>\n      <td>False</td>\n      <td>True</td>\n      <td>4</td>\n      <td>I noticed this product on clearance at a store...</td>\n    </tr>\n    <tr>\n      <th>21</th>\n      <td>K-Y</td>\n      <td>K-Y</td>\n      <td>K-Y Love Sensuality Pleasure Gel</td>\n      <td>vero</td>\n      <td>False</td>\n      <td>True</td>\n      <td>4</td>\n      <td>I used this product a couple of times since i ...</td>\n    </tr>\n    <tr>\n      <th>22</th>\n      <td>K-Y</td>\n      <td>K-Y</td>\n      <td>K-Y Love Sensuality Pleasure Gel</td>\n      <td>Jo276</td>\n      <td>False</td>\n      <td>True</td>\n      <td>4</td>\n      <td>Used a few times stays a bit sticky but not to...</td>\n    </tr>\n    <tr>\n      <th>23</th>\n      <td>K-Y</td>\n      <td>K-Y</td>\n      <td>K-Y Love Sensuality Pleasure Gel</td>\n      <td>Ashley A</td>\n      <td>True</td>\n      <td>NaN</td>\n      <td>5</td>\n      <td>Loved This review was collected as part of a p...</td>\n    </tr>\n    <tr>\n      <th>24</th>\n      <td>K-Y</td>\n      <td>K-Y</td>\n      <td>K-Y Love Sensuality Pleasure Gel</td>\n      <td>Jp71</td>\n      <td>True</td>\n      <td>True</td>\n      <td>5</td>\n      <td>This is a good product. Will give you a great ...</td>\n    </tr>\n    <tr>\n      <th>25</th>\n      <td>K-Y</td>\n      <td>K-Y</td>\n      <td>K-Y Love Sensuality Pleasure Gel</td>\n      <td>Jkell</td>\n      <td>False</td>\n      <td>True</td>\n      <td>5</td>\n      <td>I really enjoyed using this product with my hu...</td>\n    </tr>\n    <tr>\n      <th>26</th>\n      <td>K-Y</td>\n      <td>K-Y</td>\n      <td>K-Y Love Sensuality Pleasure Gel</td>\n      <td>Karen</td>\n      <td>False</td>\n      <td>True</td>\n      <td>5</td>\n      <td>Awesome Product for couples. It is a warm feel...</td>\n    </tr>\n    <tr>\n      <th>27</th>\n      <td>K-Y</td>\n      <td>K-Y</td>\n      <td>K-Y Love Sensuality Pleasure Gel</td>\n      <td>Warren</td>\n      <td>False</td>\n      <td>True</td>\n      <td>5</td>\n      <td>Exceptional product, this is smooth, not slimy...</td>\n    </tr>\n    <tr>\n      <th>28</th>\n      <td>K-Y</td>\n      <td>K-Y</td>\n      <td>K-Y Love Sensuality Pleasure Gel</td>\n      <td>Mas0814</td>\n      <td>False</td>\n      <td>True</td>\n      <td>5</td>\n      <td>I used this for the first time with my boyfrie...</td>\n    </tr>\n    <tr>\n      <th>29</th>\n      <td>K-Y</td>\n      <td>K-Y</td>\n      <td>K-Y Love Sensuality Pleasure Gel</td>\n      <td>Amanda</td>\n      <td>False</td>\n      <td>True</td>\n      <td>5</td>\n      <td>Great product! Exactly what it says works very...</td>\n    </tr>\n    <tr>\n      <th>...</th>\n      <td>...</td>\n      <td>...</td>\n      <td>...</td>\n      <td>...</td>\n      <td>...</td>\n      <td>...</td>\n      <td>...</td>\n      <td>...</td>\n    </tr>\n    <tr>\n      <th>71014</th>\n      <td>Opti-Free</td>\n      <td>Opti-Free</td>\n      <td>Opti-Free Puremoist Disinfecting Solution 10fl Oz</td>\n      <td>KCDC</td>\n      <td>False</td>\n      <td>True</td>\n      <td>5</td>\n      <td>I have dry eyes and none of the generic stuff ...</td>\n    </tr>\n    <tr>\n      <th>71015</th>\n      <td>Opti-Free</td>\n      <td>Opti-Free</td>\n      <td>Opti-Free Puremoist Disinfecting Solution 10fl Oz</td>\n      <td>BarbaraB</td>\n      <td>False</td>\n      <td>True</td>\n      <td>5</td>\n      <td>This is a great product that provides all day ...</td>\n    </tr>\n    <tr>\n      <th>71016</th>\n      <td>Opti-Free</td>\n      <td>Opti-Free</td>\n      <td>Opti-Free Puremoist Disinfecting Solution 10fl Oz</td>\n      <td>evansjejune</td>\n      <td>False</td>\n      <td>True</td>\n      <td>5</td>\n      <td>Great product</td>\n    </tr>\n    <tr>\n      <th>71017</th>\n      <td>Opti-Free</td>\n      <td>Opti-Free</td>\n      <td>Opti-Free Puremoist Disinfecting Solution 10fl Oz</td>\n      <td>Jack</td>\n      <td>False</td>\n      <td>True</td>\n      <td>5</td>\n      <td>It's Best saline I've tried.</td>\n    </tr>\n    <tr>\n      <th>71018</th>\n      <td>Opti-Free</td>\n      <td>Opti-Free</td>\n      <td>Opti-Free Puremoist Disinfecting Solution 10fl Oz</td>\n      <td>BittyBetsy</td>\n      <td>False</td>\n      <td>True</td>\n      <td>5</td>\n      <td>this product does not burn it does a great job...</td>\n    </tr>\n    <tr>\n      <th>71019</th>\n      <td>Opti-Free</td>\n      <td>Opti-Free</td>\n      <td>Opti-Free Puremoist Disinfecting Solution 10fl Oz</td>\n      <td>Susan C</td>\n      <td>True</td>\n      <td>NaN</td>\n      <td>5</td>\n      <td>Awesome cleaning solutions for contacts This r...</td>\n    </tr>\n    <tr>\n      <th>71020</th>\n      <td>Opti-Free</td>\n      <td>Opti-Free</td>\n      <td>Opti-Free Puremoist Disinfecting Solution 10fl Oz</td>\n      <td>redheeler</td>\n      <td>True</td>\n      <td>True</td>\n      <td>5</td>\n      <td>I recommend this for people with dry eye who s...</td>\n    </tr>\n    <tr>\n      <th>71021</th>\n      <td>Opti-Free</td>\n      <td>Opti-Free</td>\n      <td>Opti-Free Puremoist Disinfecting Solution 10fl Oz</td>\n      <td>Momof4kiddos</td>\n      <td>True</td>\n      <td>True</td>\n      <td>5</td>\n      <td>This is the only contact solution I use. I hav...</td>\n    </tr>\n    <tr>\n      <th>71022</th>\n      <td>Opti-Free</td>\n      <td>Opti-Free</td>\n      <td>Opti-Free Puremoist Disinfecting Solution 10fl Oz</td>\n      <td>shopper</td>\n      <td>False</td>\n      <td>True</td>\n      <td>5</td>\n      <td>One of the best contact solutions I have used</td>\n    </tr>\n    <tr>\n      <th>71023</th>\n      <td>Opti-Free</td>\n      <td>Opti-Free</td>\n      <td>Opti-Free Puremoist Disinfecting Solution 10fl Oz</td>\n      <td>Shelley</td>\n      <td>False</td>\n      <td>True</td>\n      <td>5</td>\n      <td>I've had trouble the past few years with my co...</td>\n    </tr>\n    <tr>\n      <th>71024</th>\n      <td>Opti-Free</td>\n      <td>Opti-Free</td>\n      <td>Opti-Free Puremoist Disinfecting Solution 10fl Oz</td>\n      <td>Melissaraeby</td>\n      <td>False</td>\n      <td>True</td>\n      <td>5</td>\n      <td>This is the only stuff my daughter will use. I...</td>\n    </tr>\n    <tr>\n      <th>71025</th>\n      <td>Opti-Free</td>\n      <td>Opti-Free</td>\n      <td>Opti-Free Puremoist Disinfecting Solution 10fl Oz</td>\n      <td>KimiO</td>\n      <td>True</td>\n      <td>True</td>\n      <td>5</td>\n      <td>This is great for using daily to disinfect you...</td>\n    </tr>\n    <tr>\n      <th>71026</th>\n      <td>Opti-Free</td>\n      <td>Opti-Free</td>\n      <td>Opti-Free Puremoist Disinfecting Solution 10fl Oz</td>\n      <td>Margaret</td>\n      <td>True</td>\n      <td>True</td>\n      <td>5</td>\n      <td>Worked wonderful !!</td>\n    </tr>\n    <tr>\n      <th>71027</th>\n      <td>Opti-Free</td>\n      <td>Opti-Free</td>\n      <td>Opti-Free Puremoist Disinfecting Solution 10fl Oz</td>\n      <td>Kentuckynurse</td>\n      <td>False</td>\n      <td>True</td>\n      <td>5</td>\n      <td>I am always satisfied with this contact soluti...</td>\n    </tr>\n    <tr>\n      <th>71028</th>\n      <td>Opti-Free</td>\n      <td>Opti-Free</td>\n      <td>Opti-Free Puremoist Disinfecting Solution 10fl Oz</td>\n      <td>Monkeygirl5</td>\n      <td>False</td>\n      <td>True</td>\n      <td>5</td>\n      <td>I buy this for my daughter who wears contacts....</td>\n    </tr>\n    <tr>\n      <th>71029</th>\n      <td>Opti-Free</td>\n      <td>Opti-Free</td>\n      <td>Opti-Free Puremoist Disinfecting Solution 10fl Oz</td>\n      <td>TammyB</td>\n      <td>False</td>\n      <td>True</td>\n      <td>5</td>\n      <td>Works great</td>\n    </tr>\n    <tr>\n      <th>71030</th>\n      <td>Opti-Free</td>\n      <td>Opti-Free</td>\n      <td>Opti-Free Puremoist Disinfecting Solution 10fl Oz</td>\n      <td>Jfrezz</td>\n      <td>False</td>\n      <td>True</td>\n      <td>5</td>\n      <td>Very good at keeping contact lenses clean and ...</td>\n    </tr>\n    <tr>\n      <th>71031</th>\n      <td>Opti-Free</td>\n      <td>Opti-Free</td>\n      <td>Opti-Free Puremoist Disinfecting Solution 10fl Oz</td>\n      <td>LuluDownSouth</td>\n      <td>False</td>\n      <td>True</td>\n      <td>5</td>\n      <td>I bought this brand mainly because it came in ...</td>\n    </tr>\n    <tr>\n      <th>71032</th>\n      <td>Opti-Free</td>\n      <td>Opti-Free</td>\n      <td>Opti-Free Puremoist Disinfecting Solution 10fl Oz</td>\n      <td>RugbyWing16</td>\n      <td>False</td>\n      <td>True</td>\n      <td>5</td>\n      <td>I bought 2 of these thinking I would run out o...</td>\n    </tr>\n    <tr>\n      <th>71033</th>\n      <td>Opti-Free</td>\n      <td>Opti-Free</td>\n      <td>Opti-Free Puremoist Disinfecting Solution 10fl Oz</td>\n      <td>ui3354</td>\n      <td>False</td>\n      <td>True</td>\n      <td>5</td>\n      <td>This contact solution is wonderful and does an...</td>\n    </tr>\n    <tr>\n      <th>71034</th>\n      <td>Opti-Free</td>\n      <td>Opti-Free</td>\n      <td>Opti-Free Puremoist Disinfecting Solution 10fl Oz</td>\n      <td>Jennya</td>\n      <td>False</td>\n      <td>True</td>\n      <td>5</td>\n      <td>I have used this for a while now with great su...</td>\n    </tr>\n    <tr>\n      <th>71035</th>\n      <td>Opti-Free</td>\n      <td>Opti-Free</td>\n      <td>Opti-Free Puremoist Disinfecting Solution 10fl Oz</td>\n      <td>Jayme</td>\n      <td>True</td>\n      <td>True</td>\n      <td>5</td>\n      <td>Cleanses contacts to keep them fresh clean for...</td>\n    </tr>\n    <tr>\n      <th>71036</th>\n      <td>Opti-Free</td>\n      <td>Opti-Free</td>\n      <td>Opti-Free Puremoist Disinfecting Solution 10fl Oz</td>\n      <td>Mike</td>\n      <td>False</td>\n      <td>True</td>\n      <td>5</td>\n      <td>Great product</td>\n    </tr>\n    <tr>\n      <th>71037</th>\n      <td>Opti-Free</td>\n      <td>Opti-Free</td>\n      <td>Opti-Free Puremoist Disinfecting Solution 10fl Oz</td>\n      <td>Tootsie</td>\n      <td>False</td>\n      <td>True</td>\n      <td>5</td>\n      <td>Great item</td>\n    </tr>\n    <tr>\n      <th>71038</th>\n      <td>Opti-Free</td>\n      <td>Opti-Free</td>\n      <td>Opti-Free Puremoist Disinfecting Solution 10fl Oz</td>\n      <td>Alexios</td>\n      <td>False</td>\n      <td>True</td>\n      <td>5</td>\n      <td>Since I've starting wearing my contacts full-t...</td>\n    </tr>\n    <tr>\n      <th>71039</th>\n      <td>Opti-Free</td>\n      <td>Opti-Free</td>\n      <td>Opti-Free Puremoist Disinfecting Solution 10fl Oz</td>\n      <td>Seniorgal</td>\n      <td>False</td>\n      <td>True</td>\n      <td>5</td>\n      <td>I'm dealing with dry eyes and very sensitive t...</td>\n    </tr>\n    <tr>\n      <th>71040</th>\n      <td>Opti-Free</td>\n      <td>Opti-Free</td>\n      <td>Opti-Free Puremoist Disinfecting Solution 10fl Oz</td>\n      <td>Nammaw</td>\n      <td>False</td>\n      <td>True</td>\n      <td>5</td>\n      <td>Great stuff! Helps keep my contacts moist all ...</td>\n    </tr>\n    <tr>\n      <th>71041</th>\n      <td>Opti-Free</td>\n      <td>Opti-Free</td>\n      <td>Opti-Free Puremoist Disinfecting Solution 10fl Oz</td>\n      <td>LDBoston</td>\n      <td>False</td>\n      <td>True</td>\n      <td>5</td>\n      <td>Right price</td>\n    </tr>\n    <tr>\n      <th>71042</th>\n      <td>Bebe Au Lait</td>\n      <td>Bebe au Lait</td>\n      <td>Bebe Au Lait174 Premium Muslin Nursing Scarf -...</td>\n      <td>Vanessag</td>\n      <td>NaN</td>\n      <td>True</td>\n      <td>5</td>\n      <td>I was so pleased when this scarf arrived for m...</td>\n    </tr>\n    <tr>\n      <th>71043</th>\n      <td>UMGD</td>\n      <td>Def Jam</td>\n      <td>Justin Bieber - Under The Mistletoe (vinyl)</td>\n      <td>Chrismas Bieber</td>\n      <td>NaN</td>\n      <td>True</td>\n      <td>5</td>\n      <td>Excellent album, makes the holidays better, gi...</td>\n    </tr>\n  </tbody>\n</table>\n<p>71044 rows × 8 columns</p>\n</div>"
     },
     "metadata": {},
     "execution_count": 3
    }
   ],
   "source": [
    "clean_df = df[['brand', 'manufacturer', 'name', 'reviews.username', 'reviews.didPurchase', 'reviews.doRecommend', 'reviews.rating', 'reviews.text']].copy()\n",
    "clean_df"
   ]
  },
  {
   "cell_type": "code",
   "execution_count": 4,
   "metadata": {
    "tags": []
   },
   "outputs": [],
   "source": [
    "clean_reviews = []\n",
    "\n",
    "for line in clean_df['reviews.text']:\n",
    "    line = str(line)\n",
    "    # Quitar saltos de linea y convertirlo a minusculas\n",
    "    line = line.rstrip('\\n').lower()\n",
    "    # Quitar URLS\n",
    "    line = re.sub(r'^https?:\\/\\/.[\\r\\n]', '', line)\n",
    "    # Quitar el resto de expresiones regulares, excepto . ? ! y '\n",
    "    line = re.sub(r\"[^\\w.?!\\d'\\s]\", '', line)\n",
    "    # Quitar números\n",
    "    line = re.sub(' \\d+', ' ', line)\n",
    "    # Quitar espacios extra\n",
    "    line = line.strip(' \\t\\n\\r')\n",
    "    # Reemplazar ! y ? por puntos.\n",
    "    line = line.replace('!','.').replace('?','.')\n",
    "    # Quitar multiples puntos por solo uno\n",
    "    line = re.sub(r'\\.+', \".\", line)\n",
    "    # Finalmente, quitamos apostrofes\n",
    "    line = line.replace(\"'\", '')\n",
    "\n",
    "    clean_reviews.append(line)"
   ]
  },
  {
   "cell_type": "markdown",
   "metadata": {},
   "source": [
    "### Validamos que no hayan usuarios o nombres de productos vacíos\n",
    "\n",
    "Empezamos obteniendo la lista que contenga los índices de los valores vacíos. Luego, reemplazamos cada valor por '---'"
   ]
  },
  {
   "cell_type": "code",
   "execution_count": 5,
   "metadata": {
    "tags": []
   },
   "outputs": [],
   "source": [
    "# Creamos la lista de índices con valores vacíos\n",
    "usernames = [str(prod) for prod in clean_df['reviews.username'].tolist()]\n",
    "empties = np.where(pd.isnull(clean_df[['reviews.username']]))[0].tolist()\n",
    "\n",
    "for index in empties:\n",
    "    usernames[index] = '---'"
   ]
  },
  {
   "cell_type": "markdown",
   "metadata": {},
   "source": [
    "Ahora, hacemos lo mismo para los productos."
   ]
  },
  {
   "cell_type": "code",
   "execution_count": 6,
   "metadata": {},
   "outputs": [],
   "source": [
    "products = [str(prod) for prod in clean_df['name'].tolist()]\n",
    "empties = np.where(pd.isnull(clean_df[['reviews.username']]))[0].tolist()\n",
    "\n",
    "for index in empties:\n",
    "    products[index] = '---'"
   ]
  },
  {
   "cell_type": "markdown",
   "metadata": {},
   "source": [
    "### Crear CSV con datos limpios\n",
    "\n",
    "Primero, se cambian las columnas por aquellas que esten limpias."
   ]
  },
  {
   "cell_type": "code",
   "execution_count": 7,
   "metadata": {
    "tags": []
   },
   "outputs": [],
   "source": [
    "clean_df['reviews.text'] = clean_reviews\n",
    "clean_df['reviews.username'] = usernames\n",
    "clean_df['name'] = products"
   ]
  },
  {
   "cell_type": "markdown",
   "metadata": {},
   "source": [
    "Luego, crear CSV limpio"
   ]
  },
  {
   "cell_type": "code",
   "execution_count": 8,
   "metadata": {},
   "outputs": [],
   "source": [
    "df = pd.DataFrame(clean_df)\n",
    "df.to_csv('./files/CleanData.csv', index=False)"
   ]
  },
  {
   "cell_type": "markdown",
   "metadata": {},
   "source": [
    "## Ejercicio 6\n",
    "\n"
   ]
  },
  {
   "cell_type": "code",
   "execution_count": 9,
   "metadata": {},
   "outputs": [],
   "source": [
    "clean_df = pd.read_csv('./files/CleanData.csv')"
   ]
  },
  {
   "cell_type": "markdown",
   "metadata": {},
   "source": [
    "### Inciso 6.1\n",
    "¿Cuáles son los 10 productos de mejor calidad dado su review?"
   ]
  },
  {
   "cell_type": "code",
   "execution_count": 10,
   "metadata": {
    "tags": []
   },
   "outputs": [
    {
     "output_type": "stream",
     "name": "stderr",
     "text": "[nltk_data] Downloading package vader_lexicon to\n[nltk_data]     C:\\Users\\wuser\\AppData\\Roaming\\nltk_data...\n[nltk_data]   Package vader_lexicon is already up-to-date!\n"
    }
   ],
   "source": [
    "from PerWordAnalisys import perWordAnalisys\n",
    "import csv\n",
    "products = {}"
   ]
  },
  {
   "cell_type": "code",
   "execution_count": 11,
   "metadata": {
    "tags": []
   },
   "outputs": [
    {
     "output_type": "stream",
     "name": "stdout",
     "text": "Column names are brand, manufacturer, name, reviews.username, reviews.didPurchase, reviews.doRecommend, reviews.rating, reviews.text\n"
    }
   ],
   "source": [
    "with open('files/CleanData.csv') as csv_file:\n",
    "    csv_reader = csv.reader(csv_file, delimiter=',')\n",
    "    line_count = 0\n",
    "    for row in csv_reader:\n",
    "        if line_count == 0:\n",
    "            print(f'Column names are {\", \".join(row)}')\n",
    "            line_count += 1\n",
    "        else:\n",
    "            if (row[2] in products):\n",
    "                  products[row[2]].append(row[-1])\n",
    "            else:\n",
    "                  products[row[2]] = []\n",
    "                  products[row[2]].append(row[-1])"
   ]
  },
  {
   "cell_type": "code",
   "execution_count": 12,
   "metadata": {
    "tags": [
     "outputPrepend"
    ]
   },
   "outputs": [
    {
     "output_type": "stream",
     "name": "stdout",
     "text": "egetable & Noodle Soup\n217 Maybelline Clean Express! Makeup Removing Lotion\n218 Physicians Formula Powder Palette Mineral Glow Pearls, Translucent Pearl\n219 Pleasant Hearth 7.5 Steel Grate, 30 5 Bar - Black\n220 Switchmas (dvd)\n221 Vaseline Intensive Care Healthy Hands Stronger Nails\n222 Solo Foods Poppy Seed Cake and Pastry Filling\n223 Alex Cross (dvdvideo)\n224 Clear Scalp & Hair Therapy Total Care Nourishing Shampoo\n225 Progresso Traditional Chicken Rice With Vegetables Soup\n226 Cheetos Crunchy Flamin' Hot Cheese Flavored Snacks\n227 Bisquick Original Pancake And Baking Mix - 40oz\n228 Olivella Bar Soap - 3.52 Oz\n229 Godzilla 3d Includes Digital Copy Ultraviolet 3d/2d Blu-Ray/dvd\n230 Voortman Sugar Free Fudge Chocolate Chip Cookies\n231 Finish Gelpacs Dishwasher Detergent, Orange Scent, 84ct\n232 Tim Holtz Retractable Craft Pick-Red 6x.5\n233 Ragu Traditional Pasta Sauce\n234 Stargate (ws) (ultimate Edition) (director's Cut) (dvdvideo)\n235 Iman Luxury Moisturizing Lipstick, Black Brandy 006\n236 Aveeno Baby Continuous Protection Lotion Sunscreen with Broad Spectrum SPF 55, 4oz\n237 5302050 15/16 FCT/HOSE ADAPTOR\n238 Ben & Jerry's Coffee, Coffee Buzzbuzzbuzz! Ice Cream, Pint\n239 Jolly Time Select Premium Yellow Pop Corn\n240 Leslie Sansone:Belly Blasting Walk (dvd)\n241 Boraam Sonoma Kitchen Cart With Wire Brush Gray - Maaya Home\n242 Jason Aldean - They Don't Know\n243 Ogx Anti-breakage Keratin Oil 3 Minute Miraculous Recovery\n244 Meguiar's Ultimate Quik Detailer 22-Oz.\n245 Care Free Curl Gold Instant Activator\n246 Spam Single Classic\n247 Smead174 2 1/4 Inch Accordion Expansion Wallet, Poly, Letter, Translucent Green\n248 Cantu Coconut Milk Shine Hold Mist - 8oz\n249 Vicks Vaporub, Regular, 3.53oz\n250 Planes: Fire Rescue (2 Discs) (includes Digital Copy) (blu-Ray/dvd)\n251 Various Artists - Choo Choo Soul (cd)\n252 High-Dome Floor Door Stop\n253 Shea Moisture Mango & Carrot Kids Extra-Nourishing Conditioner, 8fl Oz\n254 Ceiling Fan With Light White 14.2 X 29.9 X 9.2 - Hunter Fan\n255 Concept Housewares 36 Natural Wood ceiling mounted pot rack\n256Tostitos Original Restaurant Style Tortilla Chips\n257 Walkers Stem Ginger Shortbread\n258 Barielle Nail Rebuilding Protein\n259 Musselman Apple Sauce, Cinnamon, 48oz\n260 Storkcraft Tuscany Glider and Ottoman, Beige Cushions, Espresso Finish\n261 Queen Helene Cocoa Butter Solid\n262 Bodycology Nourishing Body Cream, Pretty In Paris\n263 Sea Gull Lighting Holman One Light Wall/bath Sconce - Brushed Nickel\n264 Chobani174 Strawberry On The Bottom Non-Fat Greek Yogurt - 5.3oz\n265 Meguiars Interior Detailer Wipes 25ct\n266 Bedtime Originals Pinkie Musical Mobile\n267 Various - Red Hot Blue:Tribute To Cole Porter (cd)\n268 L'oreal Paris Advanced Hairstyle TXT IT Hyper-Fix Putty\n269 2017-2018 Brownline174 Duraflex 14-Month Planner 8 1/2 X 11 Black\n270 Mrs. Meyer's Lemon Verbena Surface Scrub\n271 L'or233al Paris Elvive Extraordinary Clay Rebalancing Conditioner - 12.6 Fl Oz\n272 Just For Men Shampoo In Hair Color, Light-Medium Brown 30\n273 Sunbrella174 Spectrum Outdoor 2-Piece Square Throw Pillow Set - Blue\n274 Kidz Bop - Kidz Bop 26 (cd)\n275 Portman Coffee Table - International Concepts\n276 Mitchum Men Clinical Anti-perspirant & Deodorant Soft Solid, Unscented\n277 Gone Fishing Titanized Fisherman Pliers with Braid Cutter\n278 Mitchum For Women Power Gel Antiperspirant & Deodorant, Shower Fresh\n279 Nearly Natural Rose Arrangement With Vase\n280 Queen Helene Refreshing Mint Julep Natural Facial Scrub, 6 oz\n281 Just For Men Brush-In Color Gel For Mustache & Beard, Dark Brown M-45\n282 Ecotrin Pain Reliever Regular Strength 325mg Tablets - Aspirin (nsaid) - 300ct\n283 Head & Shoulders Dry Scalp Care Conditioner\n284 Obagi Pore Therapy\n285 Teenage Mutant Ninja Turtles Iii (dvdvideo)\n286 Milani Color Statement Lipstick, 08 Ruby Valentine\n287 Warhammer: The End Times Vermintide Playstation 4\n288 Interdesign Classico Wall Mount Paper Towel Holder - Chrome (14)\n289 One Grace Place Terrific Tie Dye Throw Pillow Car (13x9x3)\n290 Crystal Key Table Lamp - Safavieh174\n291 Michael Jackson's Vision Deluxe Vision 3 Discs\n292 Oxiclean Laundry Stain Remover Spray\n293 Nesco 6 Qt. Roaster Oven - Stainless Steel\n294 Swingline174 Stapler Value Pack - Black\n295 L'oreal Paris Voluminous Extra-Volume Collagen Mascara, Black Brown\n296 Hubba Bubba Bubble Tape - 2pk\n297 Guitar, Keyboard, Drum Throne\n298 Blast Away 10lbs (dvd)\n299 Newman's Own Beef & Broccoli Complete Skillet Meal\n300 Isoplus Neutralizing Shampoo\n301 Progresso Vegetable Classics 99% Fat Free Lentil Soup\n302 Kid Rock - Cocky Explicit Lyrics (cd)\n303 Sally Hansen Hard As Nails Hard As Wraps Nail Harderner\n304 Working Girl (dvd)\n305 Australian Gold Lotion SPF 50 Baby\n306 Swann Door Alarm - White (swads-Alarmk-Gl)\n307 Ust 30-Day Duro Lantern, Titanium\n308 Latourangelle Coconut Oil - 14oz\n309 Caribou Coffee174 Lacuna Dark Roast Ground Coffee - 12oz\n310 Attitude Natural Air Purifier, Eucalyptus & Lavender\n311 The Jungle Book (blu-Ray/dvd + Digital)\n312 Baby Banana Brush Sharky Brush\n313 Schwarzkopf Gliss153 Hair Repair153 Color Guard153 Express Repair153 Conditioner For Colored Or Highlighted Hair - 6.8oz\n314 No-Ad Sport Continuous Spray Sunblock, SPF 30\n315 Cheez-It Mozzarella Crackers, 13.7oz\n316 Northwest Black Glass Panel Electric Fireplace Wall Mount Remote\n317 Kenroy Home Table Lamp - Teal\n318 Sally Hansen Insta-Dri Nail Color, 05 Mauve It\n319 Smooth Shine Argan Power Gel - 16 Oz\n320 Maybelline Eye Studio Color Plush Shadow Quad, Gutsy Green\n321 Rolling Stones - Let It Bleed (cd)\n322 Black Radiance Artisan Color Baked Blush, Warm Berry\n323 Clearly Natural Glycerin Bar Soap, Green Apple\n324 American Crew Tea Tree Calming Conditioner\n325 Hugo Naturals Volumizing Shampoo (Vanilla & Sweet Orange)\n326 Simply Ruffles Sea Salted Reduced Fat* Potato Chips - 8oz\n327 Haagen-Dazs Gelato, Sea Salt Caramel\n328 Dermalogica Environmental Control Deodorant\n329 Mission Super Size White Corn Tortillas, 10 Ct\n330 Olly Endless Energy Zinger Vitamin Gummies - Lemon - 30ct\n331 Cream of Wheat Original 2 1/2 Minute, 28 Oz\n332 Stridex Conditioning Acne Scrub\n333 Vornado - 3-Speed Sr. Vintage Whole Room Air Circulator - Chrome\n334 J.R. Watkins Body Oil Mist, Coconut Milk & Honey\n335 Nivea Men Q10 Shaving Gel, Revitalizing\n336 Fiber One Oats Peanut Butter Chewy Bars - 5ct\n337 Lean Cuisine Culinary Collection Meatloaf With Mashed Potatoes\n338 Cerave Healing Ointment - 5 Oz\n339 Ore International Table Lamp - Silver\n340 Herbatint 9dr Copperish Gold\n341 Chuggington: Let's Ride The Rails\n342 Pulp Fiction (dvdvideo)\n343 Albert King - Very Best Of Albert King (cd)\n344 2x2 Advantage Glideaway Deluxe 4-Bike Carrier - Black\n345 Annie's Homegrown White Cheddar Microwavable Macaroni & Cheese\n346 99179 - Fit System 01-05 Civic Replacement Mirror Glass, Driver Side - check description for fitment details\n347 John Frieda Brilliant Brunette Colour Protecting Moisturising Conditioner, 20oz\n348 Petmaker 28 Sisal Burlap Cat Scratching Post\n349 Hawaiian Punch Orange Ocean Juice\n350 Children's Benadryl174 Allergy Relief Dye-Free Bubble Gum Flavored Liquid - Diphenhydramine Hcl - 4oz\n351 Murray Sugar Free Chocolate Chip Cookies\n352 Anti Monkey Butt Anti Friction Powder With Calamine, Original\n353 Suave Kids Berry Body Wash\n354 Sobe Lifewater Strawberry Dragonfruit - 0 Cal\n355 Smart Start Strong Heart Antioxidants Cereal, 17.5 Oz.\n356 NYX Doll Eye Mascara, Waterproof - Black\n357 Curel Ultra Healing Intensive Lotion, 2.5oz\n358 Snyder's Of Hanover Chocolate Covered Pretzels Dark Chocolate Mini Dips\n359 Caldrea Sea Salt Neroli Laundry Detergent\n360 Chris Botti - Italia (cd)\n361 Trend Year Around Calendar Bulletin Board Set, 22 X 17\n362 Tom's of Maine Fluoride-Free Propolis & Myrrh Toothpaste, Spearmint\n363 DKB HOUSEHOLD USA/ZYLISS 20262 Lock/Lift Can Opener\n364 Pink Floral Print Rosalie Ruffled Throw Pillow Cover (16x16) 2 Piece - Simply Shabby Chic153\n365Roommates Laundry Quote Peel And Stick Wall Decals\n366 Klondike Choco Tacos Original\n367 Onika Square Accent Table - Black/silver - Safavieh174\n368 Warner Bros Romance Classics Collecti (dvd)\n369 Mario Badescu Glycolic Foaming Cleanser\n370 Air Wick Life Scents Paradise Retreat Air Freshener Spray - 6.17oz\n371 Softsoap Moisturizing Liquid Hand Soap, Milk Protien and Honey\n372 Tide Pods Detergent, Botanical Rain, 61ct\n373 Almay Eyeliner Pencil, Brown 207\n374 Almay Intense I-Color Liner, Black Pearl\n375 Lean Cuisine Culinary Collection Steak Tips Portabello\n376 Vornado - 99-Speed 5303dc Energy Smart Small Air Circulator With Remote Control - White\n377 Natralia Anti-fungal Liquid\n378 Physician's Formula Cheek Palette Cream-to-Powder Blush Rose Palette\n379 One Grace Place Teyo's Tires Round Rug - Black (5x5')\n380 Lysol Disinfectant Spray, Early Morning Breeze, 19.0 Ounces\n381 The Secret Life Of Pets (4k/uhd + Blu-Ray + Digital)\n382 Quilted Northern Ultra Plush Toilet Paper - 18 Mega Rolls\n383 Third Man On The Mountain (dvd)\n384 Legally Blonde (special Edition) (dvdvideo)\n385 Porcelana Eye Dark Circle Treatment\n386 Nivea Extended Moisture Body Lotion, 16.9fl Oz (500ml)\n387 Honeybee Gardens Jobacolors Lip Liner, Charisma\n388 L'oreal Paris Advanced Haircare, Color Vibrancy Nourishing Conditioner 12.6oz\n389 Suzie's Un-salted Puffed Thin Cakes\n390 Keri Shea Butter Body Lotion\n391 Maybelline Instant Age Rewind Eraser Dark Circles Treatment Concealer, Fair\n392 Jerdon 5x Led Lighted Rectangular Wall Mounted Mirror Extends 15.5\n393 City Mini Zip - Single Car Seat Adapter For Baby Jogger City Go And Graco Click Connect\n394 Lite Source Quatro 2 Light Table Lamp - Brushed Dark Bronze - Pack Of 2\n395 Cuisinart174 Chef's Classic Stainless Steel 10 Piece Cookware Set - 77-10\n396 Lumisource Touch Bendable Emu Table Lamp - White\n397 Kenroy Home Table Lamp - Antique Brass\n398 Fabric Expressions Wedding Photo Album - White (8.5x8.5)\n399 Pioneer 3 - Ring Fabric Album - Black\n400 P2 (dvdvideo)\n401 Rihana Floor Lamp - Safavieh174\n402 Shea Moisture African Black Soap Problem Skin Facial Mask\n403 Lean Cuisine Culinary Collection Sweet and Sour Chicken\n404 L'oreal Paris Advanced Haircare, Triple Resist Reinforcing Conditioner 25.4oz\n405 The Foodsaver174 10 Cup Fresh Container - Fac10-000\n406 Burt's Bees Lip Shimmer, Cocoa\n407 Band Of Angels (dvd)\n408 Ge174 Led 65-Watt Br30 Light Bulb Soft White 2pk\n409 Isoplus Oil Sheen Hair Spray\n410 Scunci 2mm No Damage Braided Elastics - 6pk\n411 Palladio Rice Paper, Translucent\n412 E.l.f. Essential Lip Stain, Pink Petal\n413 Shenandoah (dvd)\n414 Oxy Maximum Action Advanced Face Wash\n415 Chi Shine Infusion\n416 Sanrio - Projectables Led Night Light - Plug In - Light Sensing - Sanrio - Hello Kitty - Pink\n417 Bumble Bee Prime Fillet Solid Light Tuna - Tonno In Olive Oil - 5 Oz\n418 Panic! At The Disco - Pretty. Odd. (cd)\n419 Bengay Cold Therapy Menthol Pain Relieving Gel - 4 Oz\n420 Neutrogena Rapid Tone Repair Dark Spot Corrector\n421 The Twilight Saga: Twilight/new Moon/eclipse Extended Editions\n422 Maybelline Color Sensational Lipcolor, Pinkalicious\n423 Hard Day's Night (blu-Ray)\n424 Long Riders (dvd)\n425 NFL Green Bay Packers Embroidered Car Mats\n426 Hagerty Jewelry Wipes (20 Wet Disposable Wipes)\n427 Tide Original Liquid Laundry Detergent - 100 Oz\n428 Wet N Wild Color Icon Glitter Single, Distortion\n429 Cinnamon Toast Crunch\n430 Rv (ws) (dvdvideo)\n431 Sinful Colors Professional Nail Enamel, Cream Pink\n432 Bestway Rip Tide SUP, 10' x 30 x 4\"\"\n433 Austin Powers:Spy Who Shagged Me (blu-Ray)\n434 Healthy Skoop Organic Protein Powder - Chocolate - 15.9oz\n435 Nourish Organic Clean & Fresh Organic Deodorant, Fresh Fig\n436 Yardley Of London Bath and Shower Gel, Exfoliating Sea Minerals\n437 Star Trek:Original Series Season One (dvd)\n438 The Honest Company Bar Soap, Lavender\n439 Black Opal Total Coverage Spot & Scar Eraser, Hazelnut\n440 Lite Source Enkel 1 Light Table Lamp - Dark Walnut\n441 Pantene Airspray Hairspray - 7 Oz\n442 Burt's Bees Ultimate Care Hand Cream\n443 L'oreal Paris Evercurl Silk and Gloss Dual Oil Care\n444 Eggo Blueberry Cobbler Waffle 11.6 Oz\n445 Nature's Path Honey Oat Crunch Flax Plus Granola Bars\n446 Colorganics Lipstick, Ginger\n447 Miranda Lambert - The Weight Of These Wings\n448 Ocean Potion Ever Glow Xtreme Self Tanning Lotion\n449 The Fourth Kind (dvdvideo)\n450 Essex Pendulum Wall Clock Black - Timekeeper174\n451 Adesso Oslo Floor Lamp - White\n452 Progresso Panko Italian Style Bread Crumbs\n453 Covergirl Advanced Radiance Age-Defying Pressed Powder, Classic Beige 115\n454 Pirate's Booty Original Tings Crunchy Corn Sticks\n455 Maybelline Eye Studio Master Duo Glossy Liquid Liner, Black Lacquer\n456 Olay Total Effects Daily Moisturizer, 7-In-1 Anti-Aging, 0.5oz\n457 Lucy's Sugar Cookies, 5.5oz\n458 Planters Peanuts, Dry Roasted, 16oz\n459 Silver Linings Playbook (dvd)\n460 Wild Planet Wild Albacore Tuna - No Salt Added\n461 Teenage Mutant Ninja Turtles174 Sheet Set - Pink (twin)\n462 Hormel Sliced Roasted Turkey Breast & Gravy\n463 Early California Black Ripe Olives Medium Pitted\n464 Arthur/arthur 2:On The Rocks (blu-Ray)\n465 Pantene Ice Shine Shampoo, 12.6 oz\n466 Black Gold 90th Birthday Mylar Balloon\n467 Nyx Pump It Up Lip Plumper, Liv\n468 Scunci No Slip Luxe Headwrap\n469 Rubbermaid174 Reveal Spray Mop\n470 Jerdon Led Lighted Makeup Mirror White Includes 10x Adjustable Spot Mirror White\n471 Jack Link's Teriyaki Beef Stick\n472 Bicycle Shower Curtain (72x72) Blue/cream\n473 Dremel VC490 Velocity Universal Panel Cutting Blade\n474 Horizon174 Organic Unsalted Butter - 1lbs\n475 L'oreal Paris Revitalift Triple Power Deep-Acting Moisturizer\n476 Krusteaz Gluten Free Cornbread Mix And Muffin Mix - 15oz\n477 Mrs. Meyer's Lavender Toilet Bowl Cleaner\n478 Neato Botvacside Brush - 2 Pack\n479 Smead174 Hanging File Folders, 1/5 Tab, 11 Point Stock, Letter, Navy, 25/box\n480 American Crew Classic Grooming Spray\n481 Mineral Fusion Eye Shadow Trios, Fragile\n482 Conair Flexible Rollers Spiral Curls - 18 Count\n483 Who Is Harry Nilsson (and Why Is Ever (dvd)\n484 Wish-Bone Greek Vinaigrette Salad Dressing\n485 Suave Naturals Refreshing Body Wash, Ocean Breeze\n486 Hormel Black Label Bacon, Original\n487 The Laundress Delicate Wash, 16 oz\n488 Rudolph And Frosty's Christmas In Jul (dvd)\n489 Arched Petrizzi Decorative Wall Mirror Silver - Uttermost\n490 The Whole Nine Yards/the Whole Ten Yards (dvdvideo)\n491 Peak Long Life Antifreeze Coolant 1-Gal.\n492 Maybelline Eye Studio Master Duo Glossy Liquid Liner, Polished Green\n493 J. Hunt Bold Table Lamp\n494 Bosch 3912/B3915/3915 Miter Saw Replacement Dust Bag # 2610911939\n495 Sebastian Halo Mist UV Filter Weightless Shine Spray\n496 Mars Chocolate Caramel Lovers Variety Mix - 37.7oz\n497 Klondike Bars Caramel Pretzel\n498 Reynolds174 Bakeware Pans Non-Stick With Lids - 3ct\n499 TRS7301B Trumpet Stand\n500 Rubbermaid Lock-Its Food Storage Container, 3 Cup\n501 Kind Maple Glazed Pecan & Sea Salt\n502 Nexxus Promend Heat Protexx Heat Protection Styling Spray\n503 Sonnar T* E 24mm f/1.8 ZA Lens with Circular Polarizer Filter Kit\n504 Cetaphil Intensive Moisturizing Cream - 3 Oz\n505 International Delight Hazelnut Creamer, 24ct singles\n506 Juice Beauty SPF 30 Sport Moisturizer\n507 Meet The Fockers (ws) (dvdvideo)\n508 Shea Moisture Raw Shea Butter Chamomile & Argan Oil Baby Eczema Therapy\n509 NYX Super Skinny Eye Marker, Carbon Black\n510 Honey Bunches Of Oats Honey Roasted, 14.5 Oz.\n511 Aveeno Stress Relief Moisturizing Lotion, 12oz\n512 Starbucks174 Colombian Ground Coffee 12oz\n513 Lundberg Long Grain Brown Organic Rice, 16oz\n514 Ortega Thick & Chunky Mild Salsa\n515 Creepshow (blu-Ray)\n516 Aveeno Positively Nourishing Purifying Body Wash, 16oz\n517 The Honest Company Stain Remover\n518 Ge Led 60watt Outdoor Post Light Bulb - Soft White\n519 2x Ultra Era With Oxi Booster, 100fl Oz\n520 Lite Source Reiko 1 Light Table Lamp - Black\n521 Physicians Formula Mineral Wear Talc-Free Mineral Loose Powder, Buff Beige\n522 Suncoat Natural Nail Polish Remover, 60ml\n523 Maple Grove Farms Of Vermont Fat Free Dressing, Cranberry Balsamic\n524 5ct Lumabase Metallic Silver Round Paper Lanterns 10\n525 Ore International Table Lamp - Brown\n526 L'oreal Paris Advanced Hairstyle Lock It Weather Control Hairspray\n527 Keebler Soft Batch Chocolate Chip Cookies\n528 bareMinerals Original Foundation Broad Spectrum Spf 15, Medium\n529 Body Fantasies Signature Fresh White Musk 7oz Fragrance Moisturizing Lotion\n530 Hugo Naturals Medium Hold Styling Gel\n531 Smead174 File Folders, Straight Cut, Reinforced Top Tab, Letter, Green, 100/box\n532 Imagine Foods Organic Low Sodium Free Range Chicken Broth\n533 Orajel Severe P.M. Toothache Pain Relief Cream\n534 Oralbalance Mouth Moisturizing Gel\n535 Attitude Stain Remover, Citrus Zest\n536 Tillamook Yogurt, Key Lime Lowfat Yogurt\n537 Soft Scrub Gel With Bleach Cleanser\n538 Mask/son Of The Mask (dvd)\n539 Hidden Valley Gluten Free Honey Bbq Ranch Salad Dressing - 16oz\n540 NYX Slim Lip Pencil, Cabaret\n541 Lundberg Black Japonica Rice, 1lb\n542 Black Front Loading Frame Set (4x6) Set Of 12\n543 Season Seafood Sardine Fillets In Sweet & Tangy Sauce\n544 Aveeno Anti-Itch Concentrated Lotion, 4oz\n545 Wet N Wild Megalast Lip Color, Dollhouse Pink 967\n546 Roger Corman Sci Fi Classics (dvd)\n547 Just For Men Autostop Foolproof Hair, Medium-dark Brown A-40, Color\n548 Wheat Thins Crackers, Big\n549 Summer's Eve Feminine Cleansing Cloths, Simply Sensitive, 32 Ea\n550 Level U Pro Active Noise-Canceling In-Ear Headphones (White)\n551 Africa's Best No-Lye Dual Conditioning Relaxer System, Regular\n552 Colorvue Expanding File Pocket Super Tab 13 Pocket Letter Black\n553 Milani Baked Powder Blush, Dolce Pink 01\n554 Cupcake Wall Clock Green/pink - Trend Lab174\n555 16ct Peppa Pig Lunch Napkins\n556 Mrs. Meyer's Sunflower Hand Soap\n557 Organic Root Stimulator Tea Tree Oil Anti-Bump Lotion\n558 Sanford Glass Beverage Dispenser - Clear\n559 Guarding Tess (dvd)\n560 Neutrogena Crease Proof Eye Shadow, Lasting Taupe\n561 Natural Valley153 Peanut Butter Biscuits - 6.75oz\n562 Nordic Ware 3D Pumpkin Duet Pan\n563 Biore Blemish Fighting Ice Cleanser\n564 Idahoan Baby Reds with Roasted Garlic and Parmesan Flavored Mashed Potatoes\n565 Ogx Conditioner, Sunkissed Blonde Lemon Highlights\n566 Stauffer's Animal Crackers Chocolate Graham, 14.5oz\n567 Milani Color Statement Lipstick, 26 Nude Creme\n568 Badger Unscented Healing Balm\n569 Lemi Shine Dishwasher Detergent Booster -24 Oz\n570 Metal Table Lamp - Antique Brass (29)\n571 Mrs. Smith's Original Flaky Crust Cherry Pie\n572 Suave Anti-Perspirant Deodorant Invisible Solid Powder\n573 Amy's174 Bowls Mushroom Risotto Gluten Free - 9.5oz\n574 Naruto:Movie:Ninja Clash In The Land (dvd)\n575 Maybelline Great Lash Lots Of Lashes Washable Mascara, Very Black\n576 Independence Day Resurgence (4k/uhd + Blu-Ray + Digital)\n577 Dauphine Traditional French Accent Coffee Table - Baxton Studio\n578 Softsoap Body Butter Scrub Coconut and Jojoba Butter Body Wash\n579 The Honest Company Bathroom Cleaner\n580 Nivea Lip Care A Kiss Of Milk & Honey\n581 Alera174 Genaro Series Guest Chair, Black Leather, Sled Base\n582 Sausage Party (4k/uhd + Digital)\n583 Physicians Formula Powder Palette Mineral Glow Pearls, Bronze Pearl\n584 12110209 - Honeywell Quietset 8-Speed Tower Fan Oscillating\n585 Ceramic Table Lamp - 26.5h - Navy Blue/beige\n586 Swingline174 Classic Full Strip Stapler, 20 Sheet Capacity - Gray\n587 Mill Creek Elastin Cream\n588 Attwood 3/8 Primer Bulb\"\n589 Cosmo Geometric 15pc Bath Set Blue - Chesapeake Merch Inc.174\n590 Hex Performance Free + Clear Advanced Laundry Detergent - 35 Loads\n591 Monster Trucks (blu-Ray + Dvd + Digital)\n592 Nutrigrain Cereal Bars, Mixed Berry, 8 Ct.\n593 Sony Wireless In-Ear Headphone - Black\n594 Karaoke Usa Professional Dvd/cdg/mp3g Karaoke Player With 7 Color Tft Display, Record, Bluetooth And Tote Wheels\n595 Storks (blu-Ray)\n596 Skittles Original Candy Bag - 9oz\n597 Kiss174 Everlasting French Nails-String Of Pearls\n598 Opti-Free Puremoist Disinfecting Solution 10fl Oz\n599 Bebe Au Lait174 Premium Muslin Nursing Scarf - Nightingale\n600 Justin Bieber - Under The Mistletoe (vinyl)\n"
    }
   ],
   "source": [
    "reviewResults = {}\n",
    "for count,product in enumerate(products):\n",
    "    print(count, product)\n",
    "    cont = 0\n",
    "    for review in products[product]:\n",
    "        cont += perWordAnalisys(review)\n",
    "    reviewResults[product] = cont / len(products[product])"
   ]
  },
  {
   "cell_type": "code",
   "execution_count": 7,
   "metadata": {},
   "outputs": [],
   "source": [
    "points = []\n",
    "for i in reviewResults:\n",
    "    points.append(reviewResults[i])\n",
    "points.sort()"
   ]
  },
  {
   "cell_type": "code",
   "execution_count": 8,
   "metadata": {},
   "outputs": [
    {
     "name": "stdout",
     "output_type": "stream",
     "text": [
      "0 ('Elvis Presley - Girl Happy (cd)', 4.0)\n",
      "1 ('JNH Lifestyles Goldstar 3 Person FAR Infrared Sauna', 4.0)\n",
      "2 ('Healthy Skoop Organic Protein Powder - Chocolate - 15.9oz', 4.0)\n",
      "3 ('Bebe Au Lait174 Premium Muslin Nursing Scarf - Nightingale', 4.0)\n",
      "4 ('Avery174 11-1/4 X 9-1/4 Index Maker Extra Wide Label Dividers With 5 Tab - Clear (5 Sets Per Pack)', 3.0)\n",
      "5 ('Carson-Dellosa Publishing Photographic Learning Cards Boxed Set, Nouns/verbs/adjectives, Grades K-12', 3.0)\n",
      "6 ('Suave Kids Berry Body Wash', 3.0)\n",
      "7 ('NYX Doll Eye Mascara, Waterproof - Black', 3.0)\n",
      "8 ('Third Man On The Mountain (dvd)', 3.0)\n",
      "9 ('Essex Pendulum Wall Clock Black - Timekeeper174', 3.0)\n"
     ]
    }
   ],
   "source": [
    "sort_products = sorted(reviewResults.items(), key=lambda x: x[1], reverse=True)\n",
    "sort_products = sort_products[:10]\n",
    "for count, i in enumerate(sort_products):\n",
    "    print(count, i)"
   ]
  },
  {
   "cell_type": "markdown",
   "metadata": {},
   "source": [
    "### Inciso 6.2\n",
    "¿Cuáles son los 10 productos de menor calidad dado su review?"
   ]
  },
  {
   "cell_type": "code",
   "execution_count": 9,
   "metadata": {},
   "outputs": [
    {
     "name": "stdout",
     "output_type": "stream",
     "text": [
      "0 ('One Grace Place Terrific Tie Dye Throw Pillow Car (13x9x3)', -2.0)\n",
      "1 (\"Physician's Formula Cheek Palette Cream-to-Powder Blush Rose Palette\", -1.0)\n",
      "2 ('Horizon174 Organic Unsalted Butter - 1lbs', -1.0)\n",
      "3 ('Orajel Severe P.M. Toothache Pain Relief Cream', -0.9285714285714286)\n",
      "4 ('Moom Express Pre Waxed Strips For Face & Bikini', -0.2)\n",
      "5 ('Lundberg Organic Cinnamon Toast Rice Cakes', 0.0)\n",
      "6 ('Heinz Tomato Ketchup, 38oz', 0.0)\n",
      "7 ('Pearhead Id Bracelet Frame', 0.0)\n",
      "8 ('Craft Punch Giga Scallop Circle 45 24687534 To 334', 0.0)\n",
      "9 ('Sea Gull Lighting Ceiling Fan - White', 0.0)\n"
     ]
    }
   ],
   "source": [
    "sort_products = sorted(reviewResults.items(), key=lambda x: x[1], reverse=False)\n",
    "sort_products = sort_products[:10]\n",
    "for count, i in enumerate(sort_products):\n",
    "    print(count, i)"
   ]
  },
  {
   "cell_type": "markdown",
   "metadata": {},
   "source": [
    "### Inciso 6.3\n",
    "Cuáles son los usuarios que dan la mayor cantidad de reviews a distintos productos."
   ]
  },
  {
   "cell_type": "code",
   "execution_count": null,
   "metadata": {
    "tags": []
   },
   "outputs": [],
   "source": [
    "# Diccionario de usuario -> producto\n",
    "prod_user = clean_df[['name', 'reviews.username']].copy().values"
   ]
  },
  {
   "cell_type": "markdown",
   "metadata": {},
   "source": [
    "Se crea un diccionario que tendrá al nombre del usuario como llave y la cantidad de productos comprados como valor."
   ]
  },
  {
   "cell_type": "code",
   "execution_count": null,
   "metadata": {
    "tags": []
   },
   "outputs": [],
   "source": [
    "# Diccionario de todos los usuarios distintos. El valor será un arreglo de productos, sin repetición.\n",
    "user_dict = {}\n",
    "\n",
    "for prod, user in prod_user:\n",
    "\n",
    "    # Si el usuario no está en el diccionario, agregarlo a él y el producto como valor.\n",
    "    if user not in user_dict: \n",
    "        user_dict[user] = []\n",
    "        user_dict[user].append(prod)\n",
    "\n",
    "    # Si el usuario sí está en el diccionario y el producto no está en su lista de productos, agregarlo.\n",
    "    elif prod not in user_dict[user]:\n",
    "        user_dict[user].append(prod)\n",
    "\n",
    "# Ahora, cambiar los productos comprados por la cantidad de productos.\n",
    "for user, products in user_dict.items():\n",
    "    user_dict[user] = len(products)"
   ]
  },
  {
   "cell_type": "markdown",
   "metadata": {},
   "source": [
    "Se ordena el arreglo en base a los productos"
   ]
  },
  {
   "cell_type": "code",
   "execution_count": null,
   "metadata": {},
   "outputs": [],
   "source": [
    "ordered = sorted(user_dict.items(), key=lambda x: x[1], reverse=True)"
   ]
  },
  {
   "cell_type": "markdown",
   "metadata": {},
   "source": [
    "Se imprimen la primeras 7 posiciones"
   ]
  },
  {
   "cell_type": "code",
   "execution_count": null,
   "metadata": {
    "tags": []
   },
   "outputs": [],
   "source": [
    "print(ordered[0:7])"
   ]
  },
  {
   "cell_type": "markdown",
   "metadata": {},
   "source": [
    "#### Respuesta:\n",
    "\n",
    "Sin tomar en cuenta a los clientes \"Anónimos\":\n",
    "\n",
    "1. Mike: 29 productos\n",
    "2. Chris: 27 productos\n",
    "3. Sandy: 23 productos\n",
    "4. John: 23 productos\n",
    "5. lisa: 22 productos"
   ]
  },
  {
   "cell_type": "markdown",
   "metadata": {},
   "source": [
    "### Inciso 6.4\n",
    "Cuáles son los usuarios que más reviews negativos y positivos dan en promedio."
   ]
  },
  {
   "cell_type": "markdown",
   "metadata": {},
   "source": [
    "Primero se lee el dataset y se cuenta la frecuencia de cada usuario:"
   ]
  },
  {
   "cell_type": "code",
   "execution_count": 13,
   "metadata": {},
   "outputs": [],
   "source": [
    "from csv import reader\n",
    "from PerWordAnalisys import *\n",
    "\n",
    "#6.4  Cuáles son los usuarios que más reviews negativos y positivos dan en promedio.\n",
    "\n",
    "usuariosPositivos={}\n",
    "usuariosNegativos={}\n",
    "usuariosTotales={}\n",
    "\n",
    "# open file in read mode\n",
    "with open('./files/CleanData.csv', encoding=\"utf8\") as read_obj:\n",
    "\t# pass the file object to reader() to get the reader object\n",
    "\tcsv_reader = reader(read_obj)\n",
    "\n",
    "\tcontador=0\n",
    "\n",
    "\t# Iterate over each row in the csv using reader object\n",
    "\tfor row in csv_reader:\n",
    "\n",
    "\t\tif(contador==0):\n",
    "\t\t\tcontador+=1\n",
    "\t\t\tcontinue\n",
    "\t\t\n",
    "\t\tsentimiento=perWordAnalisys(row[-1])\n",
    "\t\tif(sentimiento>0):\n",
    "\t\t\t#Positivo\n",
    "\t\t\ttry:\n",
    "\t\t\t\tusuariosPositivos[row[3]]+=1\n",
    "\t\t\t\tusuariosTotales[row[3]]+=1\n",
    "\t\t\texcept Exception as e:\n",
    "\t\t\t\tusuariosPositivos[row[3]]=1\n",
    "\t\t\t\tusuariosTotales[row[3]]=1\n",
    "\t\t\t\n",
    "\t\t\t\n",
    "\t\telif(sentimiento<0):\n",
    "\t\t\ttry:\n",
    "\t\t\t\tusuariosNegativos[row[3]]+=1\n",
    "\t\t\t\tusuariosTotales[row[3]]+=1\n",
    "\t\t\texcept Exception as e:\n",
    "\t\t\t\tusuariosNegativos[row[3]]=1\n",
    "\t\t\t\tusuariosTotales[row[3]]=1\n",
    "\t\t\n",
    "\t\t\t\n",
    "\t\tcontador+=1"
   ]
  },
  {
   "cell_type": "markdown",
   "metadata": {},
   "source": [
    "Luego, se saca el promedio para cada usuario"
   ]
  },
  {
   "cell_type": "code",
   "execution_count": 14,
   "metadata": {},
   "outputs": [],
   "source": [
    "for usuario in usuariosTotales:\n",
    "\ttry:\n",
    "\t\tusuariosPositivos[usuario]/=usuariosTotales[usuario]\t\t\n",
    "\texcept Exception as e:\n",
    "\t\tpass\n",
    "\n",
    "\ttry:\n",
    "\t\tusuariosNegativos[usuario]/=usuariosTotales[usuario]\t\t\n",
    "\texcept Exception as e:\n",
    "\t\tpass"
   ]
  },
  {
   "cell_type": "markdown",
   "metadata": {},
   "source": [
    "Finalmente se ordena y se imprimen top 5 usuarios de cada categoría"
   ]
  },
  {
   "cell_type": "code",
   "execution_count": 15,
   "metadata": {
    "tags": []
   },
   "outputs": [
    {
     "output_type": "stream",
     "name": "stdout",
     "text": "Top 5 usuarios que más reviews positivos dan en promedio:\n('---', 17.25)\n('Sara', 8.0)\n('Dawn', 6.0)\n('Teresa', 5.5)\n('Tammy', 5.0)\n\nTop 5 usuarios que más reviews negativos dan en promedio:\n('Cuca', 2.0)\n('Nessa', 2.0)\n('Walker557', 1.0)\n('Jo276', 1.0)\n('Star33', 1.0)\n"
    }
   ],
   "source": [
    "dictSortedPositivos=sorted(usuariosPositivos.items(), key=lambda x: x[1],reverse=True)\n",
    "print(\"Top 5 usuarios que más reviews positivos dan en promedio:\")\n",
    "control=0\n",
    "for i in dictSortedPositivos:\n",
    "\tcontrol+=1\n",
    "\tprint(i)\n",
    "\tif(control==5):\n",
    "\t\tbreak\n",
    "print()\n",
    "dictSortedNegativos=sorted(usuariosNegativos.items(), key=lambda x: x[1],reverse=True)\n",
    "print(\"Top 5 usuarios que más reviews negativos dan en promedio:\")\n",
    "control=0\n",
    "for i in dictSortedNegativos:\n",
    "\tcontrol+=1\n",
    "\tprint(i)\n",
    "\tif(control==5):\n",
    "\t\tbreak"
   ]
  },
  {
   "cell_type": "markdown",
   "metadata": {},
   "source": [
    "### Inciso 6.5\n",
    "¿Cuáles son los productores que tienen productos de mejor calidad?"
   ]
  },
  {
   "cell_type": "code",
   "execution_count": 11,
   "metadata": {},
   "outputs": [],
   "source": [
    "from PerWordAnalisys import perWordAnalisys\n",
    "import csv\n",
    "products = {}"
   ]
  },
  {
   "cell_type": "code",
   "execution_count": 12,
   "metadata": {},
   "outputs": [
    {
     "name": "stdout",
     "output_type": "stream",
     "text": [
      "Column names are brand, manufacturer, name, reviews.username, reviews.didPurchase, reviews.doRecommend, reviews.rating, reviews.text\n"
     ]
    }
   ],
   "source": [
    "with open('files/CleanData.csv') as csv_file:\n",
    "    csv_reader = csv.reader(csv_file, delimiter=',')\n",
    "    line_count = 0\n",
    "    for row in csv_reader:\n",
    "        if line_count == 0:\n",
    "            print(f'Column names are {\", \".join(row)}')\n",
    "            line_count += 1\n",
    "        else:\n",
    "            if (row[2] in products):\n",
    "                  products[row[2]].append(row[-2])\n",
    "            else:\n",
    "                  products[row[2]] = []\n",
    "                  products[row[2]].append(row[-2])"
   ]
  },
  {
   "cell_type": "code",
   "execution_count": 13,
   "metadata": {},
   "outputs": [
    {
     "name": "stdout",
     "output_type": "stream",
     "text": [
      "0 Pink Friday: Roman Reloaded Re-Up (w/dvd)\n",
      "1 Lundberg Organic Cinnamon Toast Rice Cakes\n",
      "2 K-Y Love Sensuality Pleasure Gel\n",
      "3 J.R. Watkins Hand Cream, Lemon Cream\n",
      "4 Ambi Complexion Cleansing Bar\n",
      "5 Johnson's Baby Bubble Bath and Wash, 15oz\n",
      "6 Olay Regenerist Deep Hydration Regenerating Cream\n",
      "7 Windex Original Glass Cleaner Refill 67.6oz (2 Liter)\n",
      "8 Heinz Tomato Ketchup, 38oz\n",
      "9 Kind Dark Chocolate Chunk Gluten Free Granola Bars - 5 Count\n",
      "10 Pantene Color Preserve Volume Shampoo, 25.4oz\n",
      "11 Aussie Aussome Volume Shampoo, 13.5 Oz\n",
      "12 Cars Toon: Mater's Tall Tales\n",
      "13 CeraVe SA Renewing Cream\n",
      "14 Solo Foods Almond Paste\n",
      "15 Finish Quantum Dishwasher Detergent, Lemon Sparkle Scent, 45 Count\n",
      "16 Disney174 Jake And The Neverland Pirates 4 Piece Bedding Set - Toddler\n",
      "17 Pearhead Id Bracelet Frame\n",
      "18 Craft Punch Giga Scallop Circle 45 24687534 To 334\n",
      "19 Neutrogena Wet Skin Sunscreen Spray Broad Spectrum SPF 50, 5oz\n",
      "20 Meguiar's Deep Crystal Car Wash 64-Oz.\n",
      "21 Banana Boat Sunless Summer Color Self Tanning Lotion, Light To Medium\n",
      "22 Cetaphil Gentle Skin Cleanser, 2oz\n",
      "23 Suave Professionals Hair Conditioner, Sleek\n",
      "24 Bumble Bee Solid White Albacore In Water - 5 Oz\n",
      "25 Citrus Magic Instant Spot & Stain Remover\n",
      "26 La Tortilla Factory Hand Made Style Tortillas Flour\n",
      "27 Black Sister's Revenge (dvd)\n",
      "28 Sea Gull Lighting Six Light Bath Sconce/vanity - Brushed Nickel\n",
      "29 The Seaweed Bath Co. Argan Conditioner, Smoothing Citrus\n",
      "30 Way Basics 3-Shelf Eco Narrow Bookcase Storage Shelf, Espresso - Formaldehyde Free - Lifetime Guarantee\n",
      "31 ---\n",
      "32 Bi-O-kleen Spray & Wipe All Purpose Cleaner\n",
      "33 Yes To Carrots Nourishing Body Wash\n",
      "34 Alberto VO5 Salon Series Smooth Plus Sleek Shampoo\n",
      "35 Dark Shadows (includes Digital Copy) (ultraviolet) (dvdvideo)\n",
      "36 Clambake (dvd)\n",
      "37 Mike Dave Need Wedding Dates (dvd + Digital)\n",
      "38 Sea Gull Lighting Ceiling Fan - White\n",
      "39 Progresso Traditional Meatball & Rice Soup\n",
      "40 Herr's Baked Cheese Curls\n",
      "41 Hawaiian Punch Berry Limeade Blast Juice\n",
      "42 Moom Express Pre Waxed Strips For Face & Bikini\n",
      "43 My Big Fat Greek Wedding 2 (blu-Ray + Dvd + Digital)\n",
      "44 King Ralph (dvd)\n",
      "45 Holmes174 Personal Indoor Heater W/ Manual Controls White 1500w Hfh131-N\n",
      "46 The Script - No Sound Without Silence (cd)\n",
      "47 Beanitos Bean Chips, Simply Pinto Bean\n",
      "48 Pantene Pro-V Expert Collection Age Defy Conditioner\n",
      "49 Greyson Vintage Industrial Occasional Cocktail Coffee Table - Antique Bronze - Baxton Studio\n",
      "50 Nature's Path Flax Plus Maple Pecan Crunch Cereal\n",
      "51 Lite Source Basic Ii 1-Lt Floor Lamp - Dark Bronze\n",
      "52 Sloan Royal Urinal Flush Valve, 1.0 Gpf, Royal 186-1\n",
      "53 Sunflower Swag With Metal Frame - Nearly Natural\n",
      "54 Toy Story Kids' Woody Accessory Kit\n",
      "55 Maranatha No Stir Raw Maple Almond Butter\n",
      "56 Chex Muddy Buddies Brownie Supreme Snack Mix\n",
      "57 Sopranos:Season 6 Part 1 (blu-Ray)\n",
      "58 Tresemme Kertatin Smooth Infusing Conditioning\n",
      "59 Wagan Smartac 80watt Inverter With Usb\n",
      "60 Creme Of Nature Intensive Conditioning Treatment, 32\n",
      "61 Arrid Extra Dry Anti-Perspirant Deodorant Spray Regular\n",
      "62 Eagle Fat Free Sweetened Condensed Milk\n",
      "63 Pinaud Clubman Styling Gel, Superhold\n",
      "64 Wedding Wishes Wedding Guest Book\n",
      "65 Diet Canada Dry Ginger Ale - 12pk/12 Fl Oz Cans\n",
      "66 Baxter Of California Cream Pomade\n",
      "67 Ragu Roasted Garlic Parmesan Pasta Sauce\n",
      "68 Sabre 2 Pack Door And Window Alarm\n",
      "69 Pendaflex174 Divide It Up File Folder, Multi Section, Letter, Assorted, 12/pack\n",
      "70 Newman's Own Organics Licorice Twist, Black 5oz\n",
      "71 The Honest Company Laundry Detergent\n",
      "72 Plano Mini-Magnum 13-Compartment Tackle Box\n",
      "73 Hoover174 Platinum Collection153 Lightweight Bagged Upright Vacuum With Canister - Uh30010com\n",
      "74 Stander Pt Bedcane - Bed Handle\n",
      "75 Calvin Klein Secret Obsession Eau De Parfum\n",
      "76 Wallmount Server Cabinet (450mm, 9 RU)\n",
      "77 Happy Tot Apple and Butternut Squash\n",
      "78 Udi's Pepperoni Pizza\n",
      "79 Better Built 74010862 Bet74010862 60In Crossover Two Lid, Deep, Truck Tool Box\n",
      "80 The Resident Evil Collection 5 Discs (blu-Ray)\n",
      "81 Annie's Homegrown Gluten Free Double Chocolate Chip Granola Bars\n",
      "82 Super Poligrip Denture Adhesive Cream, Ultra Fresh - 2.4 Oz\n",
      "83 Nearly Natural 5.5' Bamboo W/decorative Planter\n",
      "84 100:Complete First Season (blu-Ray)\n",
      "85 Australian Gold Exotic Blend Lotion, SPF 4\n",
      "86 Colorganics Lipstick, Cayenne\n",
      "87 Germ Guardian174 Elite 3-In-1 Pet Pure True Hepa Air Purifier Ac4300bptca\n",
      "88 Red (special Edition) (dvdvideo)\n",
      "89 Hormel Chili, No Beans\n",
      "90 Tai Pei Sweet & Sour Chicken\n",
      "91 Clorox Disinfecting Wipes Value Pack Scented 150 Ct Total\n",
      "92 Avery174 Ready Index Contemporary Table Of Contents Divider, 1-8, Multi, Letter\n",
      "93 Chips Deluxe Soft 'n Chewy Cookies\n",
      "94 WeatherTech 40647 14-15 Outlander Cargo Liners Behind 2nd Row, Black\n",
      "95 Orajel Maximum Strength Toothache Pain Relief Liquid\n",
      "96 Chester's Cheese Flavored Puffcorn Snacks\n",
      "97 D-Con Mice Bait Station - 3ct\n",
      "98 Lysol Concentrate Deodorizing Cleaner, Original Scent\n",
      "99 Coola Organic Sunscreen Classic Face Cucumber SPF 30\n",
      "100 Burt's Bees Lip Shimmer, Raisin\n",
      "101 SC Johnson One Step No Buff Wax\n",
      "102 Simple Green All-Purpose Cleaner, 16oz\n",
      "103 Wilton Black Dots Standard Baking Cups\n",
      "104 Mrs. Meyer's174 Lemon Verbena Laundry Scent Booster - 18oz\n",
      "105 Cuisinart174 Electric Juicer - Stainless Steel Cje-1000\n",
      "106 Avery174 11-1/4 X 9-1/4 Index Maker Extra Wide Label Dividers With 5 Tab - Clear (5 Sets Per Pack)\n",
      "107 Iman Second To None Stick Foundation, Clay 1\n",
      "108 Romantic Drama: Greatest Classic Films Collection 2 Discs\n",
      "109 Lundberg Wehani Rice, 25lb\n",
      "110 Post Bound Jumbo Album - Burgundy (11x14)\n",
      "111 Stonyfield Yobaby Peach & Pear Yogurt 4oz 6 Ct\n",
      "112 Charcoal Stone Toothbrush Holder Gray\n",
      "113 Bounce Dryer Sheets, Fresh Linen, 160 sheets\n",
      "114 L'oreal Paris Visible Lift Smooth Absolute, Natural Buff\n",
      "115 Just For Men Touch Of Gray Gray Hair Treatment, Black T-55\n",
      "116 Roommates No Place Like Home Peel Stick Wall Decals\n",
      "117 Pocket Watch Wall Clock Distressed Black - Yosemite Home Decor174\n",
      "118 Kraus FVS-1007 Single Hole Vessel Bathroom Faucet from the Ramus Collection\n",
      "119 Mill Creek Aloe Vera & Paba Lotion\n",
      "120 All,bran Complete Wheat Flakes, 18 Oz.\n",
      "121 Clorox Ultimate Care Premium Bleach\n",
      "122 Kind Nut Delight Bar\n",
      "123 Coty Airspun Face Powder, Translucent Extra Coverage\n",
      "124 Nature's Path Chunky Chocolate Peanut Chewy Granola Bars\n",
      "125 Axe Dry Anti-Perspirant Deodorant Invisible Solid Phoenix\n",
      "126 Power Crunch Protein Energy Bar Peanut Butter Creme Original\n",
      "127 42 Dual Drop Leaf Table with 2 Madrid Chairs\"\n",
      "128 Smead174 Recycled Letter Size Manila File Backs W/prong Fasteners, 2 Capacity, 100/box\n",
      "129 Nearly Natural Pothos Ledge Plant (set On Foam) Silk Plant\n",
      "130 Little Bedding By Nojo Jungle Dreams 2 Pack Sheet Set\n",
      "131 Sizzix Framelits Dies 1by Tim Holtz Bird Crazy-Silver Asst Sizes\n",
      "132 Vaseline Intensive Care Lip Therapy Cocoa Butter\n",
      "133 Tostitos Simply Blue Corn Tortilla Chips\n",
      "134 Starbucks153 Doubleshot Protein Coffee - 11 Fl Oz\n",
      "135 Bill Glor Gaither - Church In The Wildwood (cd)\n",
      "136 RC Cola, 12oz\n",
      "137 There's Something About Mary (dvd)\n",
      "138 Head & Shoulders Dandruff Shampoo Ocean Lift 2 In 1\n",
      "139 Scotty Mini Double Ended Extender\n",
      "140 Elvis Presley - Girl Happy (cd)\n",
      "141 Kenroy Home Table Lamp - Chrome\n",
      "142 Black Front Loading Frame Set (8.5x11) Set Of 12\n",
      "143 Dermalogica Special Cleansing Gel, 8.4oz\n",
      "144 L'oreal Paris Colour Caresse Wet Shine Stain, Pink Resistance\n",
      "145 Doc Mcstuffins: Friendship Is The Best Medicine\n",
      "146 Smead174 3-In-1 Supertab Section Folders, 1/3 Cut Top Tab, Letter, Assorted, 12/pack\n",
      "147 Bilbao Nightstand Gray Oak - South Shore\n",
      "148 Africa's Best No-Lye Dual Conditioning Relaxer System Super\n",
      "149 Tramontina Ceramica 10 Piece Cookware Set - Red\n",
      "150 Newman's Own Balsamic Vinaigrette, 16.0oz\n",
      "151 Carson-Dellosa Publishing Photographic Learning Cards Boxed Set, Nouns/verbs/adjectives, Grades K-12\n",
      "152 Home Health Hairever Shampoo\n",
      "153 Lite Source Reiko 1 Light Table Lamp - Orange\n",
      "154 Sea Gull Lighting One Light Wall/bath/vanity-Brushed Nickel\n",
      "155 J.a. Henckels International 4-Pc Everedge Plus Steak Knife Set\n",
      "156 Olay Moisturizing Lotion For Sensitive Skin\n",
      "157 Kikkoman Soy Sauce, 5fl oz\n",
      "158 Kohler 10280-4 Fort Bath Spout With Sculpted Lift Rod and 1/2-in NPT Connection\n",
      "159 Naturtint Nutrideep Multiplier Protective Cream\n",
      "160 Gain Original Scent Liquid Fabric Softener 129 Oz\n",
      "161 Burt's Bees Lip Shimmer, Watermelon\n",
      "162 Pleasant Hearth Diamond Fireplace Screen - Espresso\n",
      "163 Scooby Doo And The Loch Ness Monster (blu-Ray)\n",
      "164 Cal Lighting Led Dark Bronze Finish Metal Piano Lamp\n",
      "165 Lynk Professional174 Pull Out Cutting Board Bakeware Sliding Cabinet Organizer\n",
      "166 Trend Lab Park Nursing Cover - Paisley\n",
      "167 L'oreal Paris Advanced Hairstyle Boost It High Lift Creation Spray\n",
      "168 Plum Organics Just Prunes\n",
      "169 Batherapy Natural Mineral Bath Sport Liquid, 16 oz\n",
      "170 Candy Pink Plastic Cups, 20 pk\n",
      "171 Various - Country's Greatest Gospel:Gold Ed (cd)\n",
      "172 JNH Lifestyles Goldstar 3 Person FAR Infrared Sauna\n",
      "173 Soothing Touch Lemon Cardamom Vegan Lip Balm .25 Oz\n",
      "174 2x Ultra Era with Oxi Booster, 50fl oz\n",
      "175 Every Man Jack Pomade Signature Mint Scent\n",
      "176 Reebok Classic Leather Running Shoes - White (Men)\n",
      "177 Annie's Homegrown Deluxe Elbows & Four Cheese Sauce\n",
      "178 Delta Single Handle Shower Faucet\n",
      "179 Ogx Conditioner, Hydrating Teatree Mint\n",
      "180 Physicians Formula Mineral Wear Talc-Free Mineral Correcting Powder, Creamy Natural\n",
      "181 Equals (blu-Ray)\n",
      "182 Weleda Everon Lip Balm\n",
      "183 Fiskars174 Classic Stick Rotary Cutter (45 Mm)\n",
      "184 Clorox Disinfecting Bathroom Cleaner\n",
      "185 BRIDGESTONE 130/70ZR18M/C(63W)FRONT EXEDRA G851, CRUISER RADL\n",
      "186 Metzeler ME888 Marathon Ultra Custom Touring Front Tire 100/90-19\n",
      "187 Fantasy Fields Lil' Sports Fan Step Stool - Teamson\n",
      "188 Starbucks Iced Expresso Classics Vanilla Latte Coffee Beverage - 40oz\n",
      "189 Head & Shoulders Classic Clean Conditioner\n",
      "190 Blue Anchor Design Throw Pillow (18x18) - Rizzy Home\n",
      "191 Kendall Comforter And Sheet Set (twin) Aqua - 7pc\n",
      "192 Tree Hut Shea Body Butters, Coconut Lime, 7 oz\n",
      "193 Cococare 100% Natural Castor Oil\n",
      "194 Pacific Natural Foods Organic Beef Broth\n",
      "195 Honeywell Heatbud Ceramic Heater Black\n",
      "196 Jergens Extra Moisturizing Liquid Hand Wash, 7.5oz\n",
      "197 Lay's Salt & Vinegar Flavored Potato Chips\n",
      "198 Noosa Honey Yogurt\n",
      "199 0.6 Cu. Ft. Letter A4 Size Waterproof 30 Min. Fire File Chest\n",
      "200 If A Man Answers (dvd)\n",
      "201 Pleasant Hearth 1,800 sq ft Wood Burning Stove with Blower, Medium, LWS-127201\n",
      "202 Stacy's Simply Naked Bagel Chips\n",
      "203 Stacy's Garden Veggie Medley Pita Chips\n",
      "204 Tostitos Bite Size Tortilla Chips\n",
      "205 Nexxus Exxtra Gel Style Creation Sculptor\n",
      "206 Hollywood Beauty Olive Cholesterol\n",
      "207 Southern Enterprises Archer Fold-Away Home Bar in Walnut\n",
      "208 Chips Ahoy! Original Chocolate Chip - Cookies - Family Size 18.2oz\n",
      "209 4C Grated Parmesan Cheese 100% Natural 8oz Shaker\n",
      "210 Caress Moisturizing Body Bar Natural Silk, 4.75oz\n",
      "211 Feit 60-Watt A19 Gu24 Base Led Light Bulb - Soft White\n",
      "212 Heiress (dvd)\n",
      "213 Mia Shower Curtain Green/brown - Lush Decor174\n",
      "214 Progresso Traditional Chicken Tuscany Soup\n",
      "215 Yes To Grapefruit Rejuvenating Body Wash\n",
      "216 Progresso Light Vegetable & Noodle Soup\n",
      "217 Maybelline Clean Express! Makeup Removing Lotion\n",
      "218 Physicians Formula Powder Palette Mineral Glow Pearls, Translucent Pearl\n",
      "219 Pleasant Hearth 7.5 Steel Grate, 30 5 Bar - Black\n",
      "220 Switchmas (dvd)\n",
      "221 Vaseline Intensive Care Healthy Hands Stronger Nails\n",
      "222 Solo Foods Poppy Seed Cake and Pastry Filling\n",
      "223 Alex Cross (dvdvideo)\n",
      "224 Clear Scalp & Hair Therapy Total Care Nourishing Shampoo\n",
      "225 Progresso Traditional Chicken Rice With Vegetables Soup\n",
      "226 Cheetos Crunchy Flamin' Hot Cheese Flavored Snacks\n",
      "227 Bisquick Original Pancake And Baking Mix - 40oz\n",
      "228 Olivella Bar Soap - 3.52 Oz\n",
      "229 Godzilla 3d Includes Digital Copy Ultraviolet 3d/2d Blu-Ray/dvd\n",
      "230 Voortman Sugar Free Fudge Chocolate Chip Cookies\n",
      "231 Finish Gelpacs Dishwasher Detergent, Orange Scent, 84ct\n",
      "232 Tim Holtz Retractable Craft Pick-Red 6x.5\n",
      "233 Ragu Traditional Pasta Sauce\n",
      "234 Stargate (ws) (ultimate Edition) (director's Cut) (dvdvideo)\n",
      "235 Iman Luxury Moisturizing Lipstick, Black Brandy 006\n",
      "236 Aveeno Baby Continuous Protection Lotion Sunscreen with Broad Spectrum SPF 55, 4oz\n",
      "237 5302050 15/16 FCT/HOSE ADAPTOR\n",
      "238 Ben & Jerry's Coffee, Coffee Buzzbuzzbuzz! Ice Cream, Pint\n",
      "239 Jolly Time Select Premium Yellow Pop Corn\n",
      "240 Leslie Sansone:Belly Blasting Walk (dvd)\n",
      "241 Boraam Sonoma Kitchen Cart With Wire Brush Gray - Maaya Home\n",
      "242 Jason Aldean - They Don't Know\n",
      "243 Ogx Anti-breakage Keratin Oil 3 Minute Miraculous Recovery\n",
      "244 Meguiar's Ultimate Quik Detailer 22-Oz.\n",
      "245 Care Free Curl Gold Instant Activator\n",
      "246 Spam Single Classic\n",
      "247 Smead174 2 1/4 Inch Accordion Expansion Wallet, Poly, Letter, Translucent Green\n",
      "248 Cantu Coconut Milk Shine Hold Mist - 8oz\n",
      "249 Vicks Vaporub, Regular, 3.53oz\n",
      "250 Planes: Fire Rescue (2 Discs) (includes Digital Copy) (blu-Ray/dvd)\n",
      "251 Various Artists - Choo Choo Soul (cd)\n",
      "252 High-Dome Floor Door Stop\n",
      "253 Shea Moisture Mango & Carrot Kids Extra-Nourishing Conditioner, 8fl Oz\n",
      "254 Ceiling Fan With Light White 14.2 X 29.9 X 9.2 - Hunter Fan\n",
      "255 Concept Housewares 36 Natural Wood ceiling mounted pot rack\n",
      "256 Tostitos Original Restaurant Style Tortilla Chips\n",
      "257 Walkers Stem Ginger Shortbread\n",
      "258 Barielle Nail Rebuilding Protein\n",
      "259 Musselman Apple Sauce, Cinnamon, 48oz\n",
      "260 Storkcraft Tuscany Glider and Ottoman, Beige Cushions, Espresso Finish\n",
      "261 Queen Helene Cocoa Butter Solid\n",
      "262 Bodycology Nourishing Body Cream, Pretty In Paris\n",
      "263 Sea Gull Lighting Holman One Light Wall/bath Sconce - Brushed Nickel\n",
      "264 Chobani174 Strawberry On The Bottom Non-Fat Greek Yogurt - 5.3oz\n",
      "265 Meguiars Interior Detailer Wipes 25ct\n",
      "266 Bedtime Originals Pinkie Musical Mobile\n",
      "267 Various - Red Hot Blue:Tribute To Cole Porter (cd)\n",
      "268 L'oreal Paris Advanced Hairstyle TXT IT Hyper-Fix Putty\n",
      "269 2017-2018 Brownline174 Duraflex 14-Month Planner 8 1/2 X 11 Black\n",
      "270 Mrs. Meyer's Lemon Verbena Surface Scrub\n",
      "271 L'or233al Paris Elvive Extraordinary Clay Rebalancing Conditioner - 12.6 Fl Oz\n",
      "272 Just For Men Shampoo In Hair Color, Light-Medium Brown 30\n",
      "273 Sunbrella174 Spectrum Outdoor 2-Piece Square Throw Pillow Set - Blue\n",
      "274 Kidz Bop - Kidz Bop 26 (cd)\n",
      "275 Portman Coffee Table - International Concepts\n",
      "276 Mitchum Men Clinical Anti-perspirant & Deodorant Soft Solid, Unscented\n",
      "277 Gone Fishing Titanized Fisherman Pliers with Braid Cutter\n",
      "278 Mitchum For Women Power Gel Antiperspirant & Deodorant, Shower Fresh\n",
      "279 Nearly Natural Rose Arrangement With Vase\n",
      "280 Queen Helene Refreshing Mint Julep Natural Facial Scrub, 6 oz\n",
      "281 Just For Men Brush-In Color Gel For Mustache & Beard, Dark Brown M-45\n",
      "282 Ecotrin Pain Reliever Regular Strength 325mg Tablets - Aspirin (nsaid) - 300ct\n",
      "283 Head & Shoulders Dry Scalp Care Conditioner\n",
      "284 Obagi Pore Therapy\n",
      "285 Teenage Mutant Ninja Turtles Iii (dvdvideo)\n",
      "286 Milani Color Statement Lipstick, 08 Ruby Valentine\n",
      "287 Warhammer: The End Times Vermintide Playstation 4\n",
      "288 Interdesign Classico Wall Mount Paper Towel Holder - Chrome (14)\n",
      "289 One Grace Place Terrific Tie Dye Throw Pillow Car (13x9x3)\n",
      "290 Crystal Key Table Lamp - Safavieh174\n",
      "291 Michael Jackson's Vision Deluxe Vision 3 Discs\n",
      "292 Oxiclean Laundry Stain Remover Spray\n",
      "293 Nesco 6 Qt. Roaster Oven - Stainless Steel\n",
      "294 Swingline174 Stapler Value Pack - Black\n",
      "295 L'oreal Paris Voluminous Extra-Volume Collagen Mascara, Black Brown\n",
      "296 Hubba Bubba Bubble Tape - 2pk\n",
      "297 Guitar, Keyboard, Drum Throne\n",
      "298 Blast Away 10lbs (dvd)\n",
      "299 Newman's Own Beef & Broccoli Complete Skillet Meal\n",
      "300 Isoplus Neutralizing Shampoo\n",
      "301 Progresso Vegetable Classics 99% Fat Free Lentil Soup\n",
      "302 Kid Rock - Cocky Explicit Lyrics (cd)\n",
      "303 Sally Hansen Hard As Nails Hard As Wraps Nail Harderner\n",
      "304 Working Girl (dvd)\n",
      "305 Australian Gold Lotion SPF 50 Baby\n",
      "306 Swann Door Alarm - White (swads-Alarmk-Gl)\n",
      "307 Ust 30-Day Duro Lantern, Titanium\n",
      "308 Latourangelle Coconut Oil - 14oz\n",
      "309 Caribou Coffee174 Lacuna Dark Roast Ground Coffee - 12oz\n",
      "310 Attitude Natural Air Purifier, Eucalyptus & Lavender\n",
      "311 The Jungle Book (blu-Ray/dvd + Digital)\n",
      "312 Baby Banana Brush Sharky Brush\n",
      "313 Schwarzkopf Gliss153 Hair Repair153 Color Guard153 Express Repair153 Conditioner For Colored Or Highlighted Hair - 6.8oz\n",
      "314 No-Ad Sport Continuous Spray Sunblock, SPF 30\n",
      "315 Cheez-It Mozzarella Crackers, 13.7oz\n",
      "316 Northwest Black Glass Panel Electric Fireplace Wall Mount Remote\n",
      "317 Kenroy Home Table Lamp - Teal\n",
      "318 Sally Hansen Insta-Dri Nail Color, 05 Mauve It\n",
      "319 Smooth Shine Argan Power Gel - 16 Oz\n",
      "320 Maybelline Eye Studio Color Plush Shadow Quad, Gutsy Green\n",
      "321 Rolling Stones - Let It Bleed (cd)\n",
      "322 Black Radiance Artisan Color Baked Blush, Warm Berry\n",
      "323 Clearly Natural Glycerin Bar Soap, Green Apple\n",
      "324 American Crew Tea Tree Calming Conditioner\n",
      "325 Hugo Naturals Volumizing Shampoo (Vanilla & Sweet Orange)\n",
      "326 Simply Ruffles Sea Salted Reduced Fat* Potato Chips - 8oz\n",
      "327 Haagen-Dazs Gelato, Sea Salt Caramel\n",
      "328 Dermalogica Environmental Control Deodorant\n",
      "329 Mission Super Size White Corn Tortillas, 10 Ct\n",
      "330 Olly Endless Energy Zinger Vitamin Gummies - Lemon - 30ct\n",
      "331 Cream of Wheat Original 2 1/2 Minute, 28 Oz\n",
      "332 Stridex Conditioning Acne Scrub\n",
      "333 Vornado - 3-Speed Sr. Vintage Whole Room Air Circulator - Chrome\n",
      "334 J.R. Watkins Body Oil Mist, Coconut Milk & Honey\n",
      "335 Nivea Men Q10 Shaving Gel, Revitalizing\n",
      "336 Fiber One Oats Peanut Butter Chewy Bars - 5ct\n",
      "337 Lean Cuisine Culinary Collection Meatloaf With Mashed Potatoes\n",
      "338 Cerave Healing Ointment - 5 Oz\n",
      "339 Ore International Table Lamp - Silver\n",
      "340 Herbatint 9dr Copperish Gold\n",
      "341 Chuggington: Let's Ride The Rails\n",
      "342 Pulp Fiction (dvdvideo)\n",
      "343 Albert King - Very Best Of Albert King (cd)\n",
      "344 2x2 Advantage Glideaway Deluxe 4-Bike Carrier - Black\n",
      "345 Annie's Homegrown White Cheddar Microwavable Macaroni & Cheese\n",
      "346 99179 - Fit System 01-05 Civic Replacement Mirror Glass, Driver Side - check description for fitment details\n",
      "347 John Frieda Brilliant Brunette Colour Protecting Moisturising Conditioner, 20oz\n",
      "348 Petmaker 28 Sisal Burlap Cat Scratching Post\n",
      "349 Hawaiian Punch Orange Ocean Juice\n",
      "350 Children's Benadryl174 Allergy Relief Dye-Free Bubble Gum Flavored Liquid - Diphenhydramine Hcl - 4oz\n",
      "351 Murray Sugar Free Chocolate Chip Cookies\n",
      "352 Anti Monkey Butt Anti Friction Powder With Calamine, Original\n",
      "353 Suave Kids Berry Body Wash\n",
      "354 Sobe Lifewater Strawberry Dragonfruit - 0 Cal\n",
      "355 Smart Start Strong Heart Antioxidants Cereal, 17.5 Oz.\n",
      "356 NYX Doll Eye Mascara, Waterproof - Black\n",
      "357 Curel Ultra Healing Intensive Lotion, 2.5oz\n",
      "358 Snyder's Of Hanover Chocolate Covered Pretzels Dark Chocolate Mini Dips\n",
      "359 Caldrea Sea Salt Neroli Laundry Detergent\n",
      "360 Chris Botti - Italia (cd)\n",
      "361 Trend Year Around Calendar Bulletin Board Set, 22 X 17\n",
      "362 Tom's of Maine Fluoride-Free Propolis & Myrrh Toothpaste, Spearmint\n",
      "363 DKB HOUSEHOLD USA/ZYLISS 20262 Lock/Lift Can Opener\n",
      "364 Pink Floral Print Rosalie Ruffled Throw Pillow Cover (16x16) 2 Piece - Simply Shabby Chic153\n",
      "365 Roommates Laundry Quote Peel And Stick Wall Decals\n",
      "366 Klondike Choco Tacos Original\n",
      "367 Onika Square Accent Table - Black/silver - Safavieh174\n",
      "368 Warner Bros Romance Classics Collecti (dvd)\n",
      "369 Mario Badescu Glycolic Foaming Cleanser\n",
      "370 Air Wick Life Scents Paradise Retreat Air Freshener Spray - 6.17oz\n",
      "371 Softsoap Moisturizing Liquid Hand Soap, Milk Protien and Honey\n",
      "372 Tide Pods Detergent, Botanical Rain, 61ct\n",
      "373 Almay Eyeliner Pencil, Brown 207\n",
      "374 Almay Intense I-Color Liner, Black Pearl\n",
      "375 Lean Cuisine Culinary Collection Steak Tips Portabello\n",
      "376 Vornado - 99-Speed 5303dc Energy Smart Small Air Circulator With Remote Control - White\n",
      "377 Natralia Anti-fungal Liquid\n",
      "378 Physician's Formula Cheek Palette Cream-to-Powder Blush Rose Palette\n",
      "379 One Grace Place Teyo's Tires Round Rug - Black (5x5')\n",
      "380 Lysol Disinfectant Spray, Early Morning Breeze, 19.0 Ounces\n",
      "381 The Secret Life Of Pets (4k/uhd + Blu-Ray + Digital)\n",
      "382 Quilted Northern Ultra Plush Toilet Paper - 18 Mega Rolls\n",
      "383 Third Man On The Mountain (dvd)\n",
      "384 Legally Blonde (special Edition) (dvdvideo)\n",
      "385 Porcelana Eye Dark Circle Treatment\n",
      "386 Nivea Extended Moisture Body Lotion, 16.9fl Oz (500ml)\n",
      "387 Honeybee Gardens Jobacolors Lip Liner, Charisma\n",
      "388 L'oreal Paris Advanced Haircare, Color Vibrancy Nourishing Conditioner 12.6oz\n",
      "389 Suzie's Un-salted Puffed Thin Cakes\n",
      "390 Keri Shea Butter Body Lotion\n",
      "391 Maybelline Instant Age Rewind Eraser Dark Circles Treatment Concealer, Fair\n",
      "392 Jerdon 5x Led Lighted Rectangular Wall Mounted Mirror Extends 15.5\n",
      "393 City Mini Zip - Single Car Seat Adapter For Baby Jogger City Go And Graco Click Connect\n",
      "394 Lite Source Quatro 2 Light Table Lamp - Brushed Dark Bronze - Pack Of 2\n",
      "395 Cuisinart174 Chef's Classic Stainless Steel 10 Piece Cookware Set - 77-10\n",
      "396 Lumisource Touch Bendable Emu Table Lamp - White\n",
      "397 Kenroy Home Table Lamp - Antique Brass\n",
      "398 Fabric Expressions Wedding Photo Album - White (8.5x8.5)\n",
      "399 Pioneer 3 - Ring Fabric Album - Black\n",
      "400 P2 (dvdvideo)\n",
      "401 Rihana Floor Lamp - Safavieh174\n",
      "402 Shea Moisture African Black Soap Problem Skin Facial Mask\n",
      "403 Lean Cuisine Culinary Collection Sweet and Sour Chicken\n",
      "404 L'oreal Paris Advanced Haircare, Triple Resist Reinforcing Conditioner 25.4oz\n",
      "405 The Foodsaver174 10 Cup Fresh Container - Fac10-000\n",
      "406 Burt's Bees Lip Shimmer, Cocoa\n",
      "407 Band Of Angels (dvd)\n",
      "408 Ge174 Led 65-Watt Br30 Light Bulb Soft White 2pk\n",
      "409 Isoplus Oil Sheen Hair Spray\n",
      "410 Scunci 2mm No Damage Braided Elastics - 6pk\n",
      "411 Palladio Rice Paper, Translucent\n",
      "412 E.l.f. Essential Lip Stain, Pink Petal\n",
      "413 Shenandoah (dvd)\n",
      "414 Oxy Maximum Action Advanced Face Wash\n",
      "415 Chi Shine Infusion\n",
      "416 Sanrio - Projectables Led Night Light - Plug In - Light Sensing - Sanrio - Hello Kitty - Pink\n",
      "417 Bumble Bee Prime Fillet Solid Light Tuna - Tonno In Olive Oil - 5 Oz\n",
      "418 Panic! At The Disco - Pretty. Odd. (cd)\n",
      "419 Bengay Cold Therapy Menthol Pain Relieving Gel - 4 Oz\n",
      "420 Neutrogena Rapid Tone Repair Dark Spot Corrector\n",
      "421 The Twilight Saga: Twilight/new Moon/eclipse Extended Editions\n",
      "422 Maybelline Color Sensational Lipcolor, Pinkalicious\n",
      "423 Hard Day's Night (blu-Ray)\n",
      "424 Long Riders (dvd)\n",
      "425 NFL Green Bay Packers Embroidered Car Mats\n",
      "426 Hagerty Jewelry Wipes (20 Wet Disposable Wipes)\n",
      "427 Tide Original Liquid Laundry Detergent - 100 Oz\n",
      "428 Wet N Wild Color Icon Glitter Single, Distortion\n",
      "429 Cinnamon Toast Crunch\n",
      "430 Rv (ws) (dvdvideo)\n",
      "431 Sinful Colors Professional Nail Enamel, Cream Pink\n",
      "432 Bestway Rip Tide SUP, 10' x 30 x 4\"\"\n",
      "433 Austin Powers:Spy Who Shagged Me (blu-Ray)\n",
      "434 Healthy Skoop Organic Protein Powder - Chocolate - 15.9oz\n",
      "435 Nourish Organic Clean & Fresh Organic Deodorant, Fresh Fig\n",
      "436 Yardley Of London Bath and Shower Gel, Exfoliating Sea Minerals\n",
      "437 Star Trek:Original Series Season One (dvd)\n",
      "438 The Honest Company Bar Soap, Lavender\n",
      "439 Black Opal Total Coverage Spot & Scar Eraser, Hazelnut\n",
      "440 Lite Source Enkel 1 Light Table Lamp - Dark Walnut\n",
      "441 Pantene Airspray Hairspray - 7 Oz\n",
      "442 Burt's Bees Ultimate Care Hand Cream\n",
      "443 L'oreal Paris Evercurl Silk and Gloss Dual Oil Care\n",
      "444 Eggo Blueberry Cobbler Waffle 11.6 Oz\n",
      "445 Nature's Path Honey Oat Crunch Flax Plus Granola Bars\n",
      "446 Colorganics Lipstick, Ginger\n",
      "447 Miranda Lambert - The Weight Of These Wings\n",
      "448 Ocean Potion Ever Glow Xtreme Self Tanning Lotion\n",
      "449 The Fourth Kind (dvdvideo)\n",
      "450 Essex Pendulum Wall Clock Black - Timekeeper174\n",
      "451 Adesso Oslo Floor Lamp - White\n",
      "452 Progresso Panko Italian Style Bread Crumbs\n",
      "453 Covergirl Advanced Radiance Age-Defying Pressed Powder, Classic Beige 115\n",
      "454 Pirate's Booty Original Tings Crunchy Corn Sticks\n",
      "455 Maybelline Eye Studio Master Duo Glossy Liquid Liner, Black Lacquer\n",
      "456 Olay Total Effects Daily Moisturizer, 7-In-1 Anti-Aging, 0.5oz\n",
      "457 Lucy's Sugar Cookies, 5.5oz\n",
      "458 Planters Peanuts, Dry Roasted, 16oz\n",
      "459 Silver Linings Playbook (dvd)\n",
      "460 Wild Planet Wild Albacore Tuna - No Salt Added\n",
      "461 Teenage Mutant Ninja Turtles174 Sheet Set - Pink (twin)\n",
      "462 Hormel Sliced Roasted Turkey Breast & Gravy\n",
      "463 Early California Black Ripe Olives Medium Pitted\n",
      "464 Arthur/arthur 2:On The Rocks (blu-Ray)\n",
      "465 Pantene Ice Shine Shampoo, 12.6 oz\n",
      "466 Black Gold 90th Birthday Mylar Balloon\n",
      "467 Nyx Pump It Up Lip Plumper, Liv\n",
      "468 Scunci No Slip Luxe Headwrap\n",
      "469 Rubbermaid174 Reveal Spray Mop\n",
      "470 Jerdon Led Lighted Makeup Mirror White Includes 10x Adjustable Spot Mirror White\n",
      "471 Jack Link's Teriyaki Beef Stick\n",
      "472 Bicycle Shower Curtain (72x72) Blue/cream\n",
      "473 Dremel VC490 Velocity Universal Panel Cutting Blade\n",
      "474 Horizon174 Organic Unsalted Butter - 1lbs\n",
      "475 L'oreal Paris Revitalift Triple Power Deep-Acting Moisturizer\n",
      "476 Krusteaz Gluten Free Cornbread Mix And Muffin Mix - 15oz\n",
      "477 Mrs. Meyer's Lavender Toilet Bowl Cleaner\n",
      "478 Neato Botvacside Brush - 2 Pack\n",
      "479 Smead174 Hanging File Folders, 1/5 Tab, 11 Point Stock, Letter, Navy, 25/box\n",
      "480 American Crew Classic Grooming Spray\n",
      "481 Mineral Fusion Eye Shadow Trios, Fragile\n",
      "482 Conair Flexible Rollers Spiral Curls - 18 Count\n",
      "483 Who Is Harry Nilsson (and Why Is Ever (dvd)\n",
      "484 Wish-Bone Greek Vinaigrette Salad Dressing\n",
      "485 Suave Naturals Refreshing Body Wash, Ocean Breeze\n",
      "486 Hormel Black Label Bacon, Original\n",
      "487 The Laundress Delicate Wash, 16 oz\n",
      "488 Rudolph And Frosty's Christmas In Jul (dvd)\n",
      "489 Arched Petrizzi Decorative Wall Mirror Silver - Uttermost\n",
      "490 The Whole Nine Yards/the Whole Ten Yards (dvdvideo)\n",
      "491 Peak Long Life Antifreeze Coolant 1-Gal.\n",
      "492 Maybelline Eye Studio Master Duo Glossy Liquid Liner, Polished Green\n",
      "493 J. Hunt Bold Table Lamp\n",
      "494 Bosch 3912/B3915/3915 Miter Saw Replacement Dust Bag # 2610911939\n",
      "495 Sebastian Halo Mist UV Filter Weightless Shine Spray\n",
      "496 Mars Chocolate Caramel Lovers Variety Mix - 37.7oz\n",
      "497 Klondike Bars Caramel Pretzel\n",
      "498 Reynolds174 Bakeware Pans Non-Stick With Lids - 3ct\n",
      "499 TRS7301B Trumpet Stand\n",
      "500 Rubbermaid Lock-Its Food Storage Container, 3 Cup\n",
      "501 Kind Maple Glazed Pecan & Sea Salt\n",
      "502 Nexxus Promend Heat Protexx Heat Protection Styling Spray\n",
      "503 Sonnar T* E 24mm f/1.8 ZA Lens with Circular Polarizer Filter Kit\n",
      "504 Cetaphil Intensive Moisturizing Cream - 3 Oz\n",
      "505 International Delight Hazelnut Creamer, 24ct singles\n",
      "506 Juice Beauty SPF 30 Sport Moisturizer\n",
      "507 Meet The Fockers (ws) (dvdvideo)\n",
      "508 Shea Moisture Raw Shea Butter Chamomile & Argan Oil Baby Eczema Therapy\n",
      "509 NYX Super Skinny Eye Marker, Carbon Black\n",
      "510 Honey Bunches Of Oats Honey Roasted, 14.5 Oz.\n",
      "511 Aveeno Stress Relief Moisturizing Lotion, 12oz\n",
      "512 Starbucks174 Colombian Ground Coffee 12oz\n",
      "513 Lundberg Long Grain Brown Organic Rice, 16oz\n",
      "514 Ortega Thick & Chunky Mild Salsa\n",
      "515 Creepshow (blu-Ray)\n",
      "516 Aveeno Positively Nourishing Purifying Body Wash, 16oz\n",
      "517 The Honest Company Stain Remover\n",
      "518 Ge Led 60watt Outdoor Post Light Bulb - Soft White\n",
      "519 2x Ultra Era With Oxi Booster, 100fl Oz\n",
      "520 Lite Source Reiko 1 Light Table Lamp - Black\n",
      "521 Physicians Formula Mineral Wear Talc-Free Mineral Loose Powder, Buff Beige\n",
      "522 Suncoat Natural Nail Polish Remover, 60ml\n",
      "523 Maple Grove Farms Of Vermont Fat Free Dressing, Cranberry Balsamic\n",
      "524 5ct Lumabase Metallic Silver Round Paper Lanterns 10\n",
      "525 Ore International Table Lamp - Brown\n",
      "526 L'oreal Paris Advanced Hairstyle Lock It Weather Control Hairspray\n",
      "527 Keebler Soft Batch Chocolate Chip Cookies\n",
      "528 bareMinerals Original Foundation Broad Spectrum Spf 15, Medium\n",
      "529 Body Fantasies Signature Fresh White Musk 7oz Fragrance Moisturizing Lotion\n",
      "530 Hugo Naturals Medium Hold Styling Gel\n",
      "531 Smead174 File Folders, Straight Cut, Reinforced Top Tab, Letter, Green, 100/box\n",
      "532 Imagine Foods Organic Low Sodium Free Range Chicken Broth\n",
      "533 Orajel Severe P.M. Toothache Pain Relief Cream\n",
      "534 Oralbalance Mouth Moisturizing Gel\n",
      "535 Attitude Stain Remover, Citrus Zest\n",
      "536 Tillamook Yogurt, Key Lime Lowfat Yogurt\n",
      "537 Soft Scrub Gel With Bleach Cleanser\n",
      "538 Mask/son Of The Mask (dvd)\n",
      "539 Hidden Valley Gluten Free Honey Bbq Ranch Salad Dressing - 16oz\n",
      "540 NYX Slim Lip Pencil, Cabaret\n",
      "541 Lundberg Black Japonica Rice, 1lb\n",
      "542 Black Front Loading Frame Set (4x6) Set Of 12\n",
      "543 Season Seafood Sardine Fillets In Sweet & Tangy Sauce\n",
      "544 Aveeno Anti-Itch Concentrated Lotion, 4oz\n",
      "545 Wet N Wild Megalast Lip Color, Dollhouse Pink 967\n",
      "546 Roger Corman Sci Fi Classics (dvd)\n",
      "547 Just For Men Autostop Foolproof Hair, Medium-dark Brown A-40, Color\n",
      "548 Wheat Thins Crackers, Big\n",
      "549 Summer's Eve Feminine Cleansing Cloths, Simply Sensitive, 32 Ea\n",
      "550 Level U Pro Active Noise-Canceling In-Ear Headphones (White)\n",
      "551 Africa's Best No-Lye Dual Conditioning Relaxer System, Regular\n",
      "552 Colorvue Expanding File Pocket Super Tab 13 Pocket Letter Black\n",
      "553 Milani Baked Powder Blush, Dolce Pink 01\n",
      "554 Cupcake Wall Clock Green/pink - Trend Lab174\n",
      "555 16ct Peppa Pig Lunch Napkins\n",
      "556 Mrs. Meyer's Sunflower Hand Soap\n",
      "557 Organic Root Stimulator Tea Tree Oil Anti-Bump Lotion\n",
      "558 Sanford Glass Beverage Dispenser - Clear\n",
      "559 Guarding Tess (dvd)\n",
      "560 Neutrogena Crease Proof Eye Shadow, Lasting Taupe\n",
      "561 Natural Valley153 Peanut Butter Biscuits - 6.75oz\n",
      "562 Nordic Ware 3D Pumpkin Duet Pan\n",
      "563 Biore Blemish Fighting Ice Cleanser\n",
      "564 Idahoan Baby Reds with Roasted Garlic and Parmesan Flavored Mashed Potatoes\n",
      "565 Ogx Conditioner, Sunkissed Blonde Lemon Highlights\n",
      "566 Stauffer's Animal Crackers Chocolate Graham, 14.5oz\n",
      "567 Milani Color Statement Lipstick, 26 Nude Creme\n",
      "568 Badger Unscented Healing Balm\n",
      "569 Lemi Shine Dishwasher Detergent Booster -24 Oz\n",
      "570 Metal Table Lamp - Antique Brass (29)\n",
      "571 Mrs. Smith's Original Flaky Crust Cherry Pie\n",
      "572 Suave Anti-Perspirant Deodorant Invisible Solid Powder\n",
      "573 Amy's174 Bowls Mushroom Risotto Gluten Free - 9.5oz\n",
      "574 Naruto:Movie:Ninja Clash In The Land (dvd)\n",
      "575 Maybelline Great Lash Lots Of Lashes Washable Mascara, Very Black\n",
      "576 Independence Day Resurgence (4k/uhd + Blu-Ray + Digital)\n",
      "577 Dauphine Traditional French Accent Coffee Table - Baxton Studio\n",
      "578 Softsoap Body Butter Scrub Coconut and Jojoba Butter Body Wash\n",
      "579 The Honest Company Bathroom Cleaner\n",
      "580 Nivea Lip Care A Kiss Of Milk & Honey\n",
      "581 Alera174 Genaro Series Guest Chair, Black Leather, Sled Base\n",
      "582 Sausage Party (4k/uhd + Digital)\n",
      "583 Physicians Formula Powder Palette Mineral Glow Pearls, Bronze Pearl\n",
      "584 12110209 - Honeywell Quietset 8-Speed Tower Fan Oscillating\n",
      "585 Ceramic Table Lamp - 26.5h - Navy Blue/beige\n",
      "586 Swingline174 Classic Full Strip Stapler, 20 Sheet Capacity - Gray\n",
      "587 Mill Creek Elastin Cream\n",
      "588 Attwood 3/8 Primer Bulb\"\n",
      "589 Cosmo Geometric 15pc Bath Set Blue - Chesapeake Merch Inc.174\n",
      "590 Hex Performance Free + Clear Advanced Laundry Detergent - 35 Loads\n",
      "591 Monster Trucks (blu-Ray + Dvd + Digital)\n",
      "592 Nutrigrain Cereal Bars, Mixed Berry, 8 Ct.\n",
      "593 Sony Wireless In-Ear Headphone - Black\n",
      "594 Karaoke Usa Professional Dvd/cdg/mp3g Karaoke Player With 7 Color Tft Display, Record, Bluetooth And Tote Wheels\n",
      "595 Storks (blu-Ray)\n",
      "596 Skittles Original Candy Bag - 9oz\n",
      "597 Kiss174 Everlasting French Nails-String Of Pearls\n",
      "598 Opti-Free Puremoist Disinfecting Solution 10fl Oz\n",
      "599 Bebe Au Lait174 Premium Muslin Nursing Scarf - Nightingale\n",
      "600 Justin Bieber - Under The Mistletoe (vinyl)\n"
     ]
    }
   ],
   "source": [
    "reviewResults = {}\n",
    "for count,product in enumerate(products):\n",
    "    print(count, product)\n",
    "    cont = 0\n",
    "    for rate in products[product]:\n",
    "        cont += float(rate)\n",
    "    reviewResults[product] = cont / len(products[product])"
   ]
  },
  {
   "cell_type": "code",
   "execution_count": 14,
   "metadata": {},
   "outputs": [
    {
     "name": "stdout",
     "output_type": "stream",
     "text": [
      "[1.0, 1.0, 1.0, 1.0, 1.0, 1.0, 1.0, 1.0, 1.0, 1.0, 1.0, 1.0, 1.3475177304964538, 2.0, 2.0, 2.0, 2.0, 2.0, 2.0, 2.0, 2.0, 2.3333333333333335, 2.4285714285714284, 2.4954128440366974, 2.5, 2.5185185185185186, 2.5714285714285716, 2.6, 2.6666666666666665, 2.6666666666666665, 2.75, 2.8014440433212995, 2.8111702127659575, 3.0, 3.0, 3.0, 3.0, 3.0, 3.0, 3.0, 3.0, 3.0, 3.0, 3.0, 3.0, 3.0, 3.0, 3.0, 3.0, 3.0, 3.0434782608695654, 3.142857142857143, 3.1466666666666665, 3.1578947368421053, 3.1785714285714284, 3.3333333333333335, 3.3333333333333335, 3.3333333333333335, 3.3333333333333335, 3.3333333333333335, 3.3333333333333335, 3.35, 3.3870967741935485, 3.4, 3.4884488448844886, 3.5, 3.5, 3.5, 3.5, 3.5, 3.5, 3.5, 3.5, 3.5, 3.553435114503817, 3.5555555555555554, 3.5977011494252875, 3.6, 3.6, 3.626865671641791, 3.6470588235294117, 3.6666666666666665, 3.6666666666666665, 3.6666666666666665, 3.6666666666666665, 3.7, 3.7142857142857144, 3.7203389830508473, 3.75, 3.75, 3.75, 3.7591463414634148, 3.765957446808511, 3.769230769230769, 3.7857142857142856, 3.787878787878788, 3.8, 3.8, 3.8079096045197742, 3.8125, 3.8333333333333335, 3.8333333333333335, 3.8333333333333335, 3.84, 3.8461538461538463, 3.8768115942028984, 3.888888888888889, 3.888888888888889, 3.888888888888889, 3.888888888888889, 3.9166666666666665, 3.93279954246497, 3.9411764705882355, 3.9444444444444446, 3.9473684210526314, 3.960526315789474, 3.9705882352941178, 4.0, 4.0, 4.0, 4.0, 4.0, 4.0, 4.0, 4.0, 4.0, 4.0, 4.0, 4.0, 4.0, 4.0, 4.0, 4.0, 4.0, 4.0, 4.0, 4.0, 4.0, 4.0, 4.0, 4.0, 4.0, 4.0, 4.0, 4.0, 4.0, 4.0, 4.0, 4.038888888888889, 4.051260737046273, 4.076923076923077, 4.0773680404916846, 4.097014925373134, 4.097560975609756, 4.1, 4.1, 4.111111111111111, 4.117647058823529, 4.125, 4.125, 4.129310344827586, 4.133333333333334, 4.147632311977716, 4.15260736196319, 4.162162162162162, 4.162790697674419, 4.165760869565218, 4.166666666666667, 4.166666666666667, 4.166666666666667, 4.166666666666667, 4.166666666666667, 4.170731707317073, 4.2, 4.2, 4.20086393088553, 4.204444444444444, 4.214285714285714, 4.216216216216216, 4.222222222222222, 4.22672064777328, 4.235294117647059, 4.2368421052631575, 4.25, 4.25, 4.25, 4.25, 4.252631578947368, 4.254237288135593, 4.254464285714286, 4.256410256410256, 4.260416666666667, 4.2695035460992905, 4.2727272727272725, 4.292517006802721, 4.294117647058823, 4.3, 4.303830911492734, 4.3061224489795915, 4.310051107325383, 4.310344827586207, 4.310344827586207, 4.318181818181818, 4.333333333333333, 4.333333333333333, 4.333333333333333, 4.333333333333333, 4.333333333333333, 4.333333333333333, 4.333333333333333, 4.333333333333333, 4.333333333333333, 4.333333333333333, 4.333333333333333, 4.333333333333333, 4.333333333333333, 4.334038054968287, 4.3495495495495495, 4.356435643564357, 4.359550561797753, 4.36, 4.363636363636363, 4.363636363636363, 4.363636363636363, 4.363636363636363, 4.375, 4.375, 4.375, 4.379310344827586, 4.384615384615385, 4.394230769230769, 4.4, 4.4, 4.4, 4.4, 4.4, 4.4, 4.406685236768802, 4.408450704225352, 4.411032028469751, 4.411764705882353, 4.413793103448276, 4.416666666666667, 4.416666666666667, 4.424242424242424, 4.428571428571429, 4.428571428571429, 4.428571428571429, 4.428571428571429, 4.428571428571429, 4.444444444444445, 4.445544554455446, 4.448275862068965, 4.4520547945205475, 4.458333333333333, 4.466666666666667, 4.473684210526316, 4.475, 4.491017964071856, 4.495629370629371, 4.5, 4.5, 4.5, 4.5, 4.5, 4.5, 4.5, 4.5, 4.5, 4.5, 4.5, 4.5, 4.5, 4.5, 4.5, 4.5, 4.5, 4.5, 4.5, 4.5, 4.5, 4.5, 4.516129032258065, 4.518518518518518, 4.518987341772152, 4.5227272727272725, 4.526315789473684, 4.53125, 4.538461538461538, 4.541666666666667, 4.542857142857143, 4.555555555555555, 4.555555555555555, 4.560509554140127, 4.564102564102564, 4.569230769230769, 4.571428571428571, 4.578947368421052, 4.579268292682927, 4.583333333333333, 4.583333333333333, 4.59375, 4.6, 4.6, 4.6, 4.6, 4.6, 4.6, 4.603923647932132, 4.608695652173913, 4.615384615384615, 4.617647058823529, 4.618867924528302, 4.625, 4.625, 4.625, 4.625, 4.625, 4.625, 4.628930817610063, 4.62962962962963, 4.631578947368421, 4.636363636363637, 4.636363636363637, 4.636363636363637, 4.643820224719101, 4.645161290322581, 4.645161290322581, 4.6523031203566125, 4.655172413793103, 4.65625, 4.658536585365853, 4.660377358490566, 4.666666666666667, 4.666666666666667, 4.666666666666667, 4.666666666666667, 4.666666666666667, 4.666666666666667, 4.666666666666667, 4.666666666666667, 4.666666666666667, 4.675324675324675, 4.676470588235294, 4.6774475524475525, 4.68, 4.680851063829787, 4.684210526315789, 4.6847549909255894, 4.6875, 4.688172043010753, 4.6923076923076925, 4.692682926829268, 4.6976744186046515, 4.6976744186046515, 4.698324022346369, 4.699432892249527, 4.703703703703703, 4.705882352941177, 4.712230215827338, 4.714285714285714, 4.714285714285714, 4.71875, 4.722222222222222, 4.73, 4.73015873015873, 4.733333333333333, 4.733333333333333, 4.733333333333333, 4.7384615384615385, 4.739654479710727, 4.742857142857143, 4.7439024390243905, 4.746268656716418, 4.75, 4.75, 4.75, 4.75, 4.75, 4.75, 4.75, 4.75, 4.75, 4.75, 4.75, 4.75, 4.75, 4.756756756756757, 4.757142857142857, 4.75776397515528, 4.76, 4.766666666666667, 4.769230769230769, 4.769230769230769, 4.777777777777778, 4.777777777777778, 4.781553398058253, 4.783783783783784, 4.78740157480315, 4.794326241134752, 4.797979797979798, 4.8, 4.8, 4.8, 4.8, 4.8, 4.8, 4.8, 4.8, 4.806451612903226, 4.810055865921788, 4.8125, 4.814159292035399, 4.8147512864493995, 4.818181818181818, 4.821428571428571, 4.821453529000699, 4.826268241834607, 4.833333333333333, 4.833333333333333, 4.833333333333333, 4.833333333333333, 4.833333333333333, 4.841853798375538, 4.842105263157895, 4.846153846153846, 4.846153846153846, 4.848484848484849, 4.855072463768116, 4.857142857142857, 4.857142857142857, 4.862068965517241, 4.866666666666666, 4.875, 4.875, 4.875, 4.875, 4.882352941176471, 4.885714285714286, 4.888888888888889, 4.888888888888889, 4.896551724137931, 4.9, 4.9, 4.909090909090909, 4.909090909090909, 4.909090909090909, 4.909090909090909, 4.911764705882353, 4.916666666666667, 4.916666666666667, 4.923076923076923, 4.926470588235294, 4.946428571428571, 5.0, 5.0, 5.0, 5.0, 5.0, 5.0, 5.0, 5.0, 5.0, 5.0, 5.0, 5.0, 5.0, 5.0, 5.0, 5.0, 5.0, 5.0, 5.0, 5.0, 5.0, 5.0, 5.0, 5.0, 5.0, 5.0, 5.0, 5.0, 5.0, 5.0, 5.0, 5.0, 5.0, 5.0, 5.0, 5.0, 5.0, 5.0, 5.0, 5.0, 5.0, 5.0, 5.0, 5.0, 5.0, 5.0, 5.0, 5.0, 5.0, 5.0, 5.0, 5.0, 5.0, 5.0, 5.0, 5.0, 5.0, 5.0, 5.0, 5.0, 5.0, 5.0, 5.0, 5.0, 5.0, 5.0, 5.0, 5.0, 5.0, 5.0, 5.0, 5.0, 5.0, 5.0, 5.0, 5.0, 5.0, 5.0, 5.0, 5.0, 5.0, 5.0, 5.0, 5.0, 5.0, 5.0, 5.0, 5.0, 5.0, 5.0, 5.0, 5.0, 5.0, 5.0, 5.0, 5.0, 5.0, 5.0, 5.0, 5.0, 5.0, 5.0, 5.0, 5.0, 5.0, 5.0, 5.0, 5.0, 5.0, 5.0, 5.0, 5.0, 5.0, 5.0, 5.0, 5.0, 5.0, 5.0, 5.0, 5.0, 5.0, 5.0, 5.0, 5.0, 5.0, 5.0, 5.0, 5.0, 5.0, 5.0, 5.0, 5.0, 5.0, 5.0, 5.0, 5.0, 5.0, 5.0, 5.0, 5.0, 5.0, 5.0, 5.0, 5.0, 5.0, 5.0, 5.0]\n"
     ]
    }
   ],
   "source": [
    "points = []\n",
    "for i in reviewResults:\n",
    "    points.append(reviewResults[i])\n",
    "points.sort()\n",
    "print(points)"
   ]
  },
  {
   "cell_type": "code",
   "execution_count": 15,
   "metadata": {},
   "outputs": [
    {
     "name": "stdout",
     "output_type": "stream",
     "text": [
      "0 ('Pink Friday: Roman Reloaded Re-Up (w/dvd)', 5.0)\n",
      "1 ('Lundberg Organic Cinnamon Toast Rice Cakes', 5.0)\n",
      "2 ('J.R. Watkins Hand Cream, Lemon Cream', 5.0)\n",
      "3 ('Heinz Tomato Ketchup, 38oz', 5.0)\n",
      "4 ('Solo Foods Almond Paste', 5.0)\n",
      "5 ('Disney174 Jake And The Neverland Pirates 4 Piece Bedding Set - Toddler', 5.0)\n",
      "6 ('Craft Punch Giga Scallop Circle 45 24687534 To 334', 5.0)\n",
      "7 ('Citrus Magic Instant Spot & Stain Remover', 5.0)\n",
      "8 ('La Tortilla Factory Hand Made Style Tortillas Flour', 5.0)\n",
      "9 (\"Black Sister's Revenge (dvd)\", 5.0)\n"
     ]
    }
   ],
   "source": [
    "sort_products = sorted(reviewResults.items(), key=lambda x: x[1], reverse=True)\n",
    "sort_products = sort_products[:10]\n",
    "for count, i in enumerate(sort_products):\n",
    "    print(count, i)"
   ]
  },
  {
   "cell_type": "markdown",
   "metadata": {},
   "source": [
    "### Inciso 6.6\n",
    "¿Cuáles son los productores que tienen productos de peor calidad?"
   ]
  },
  {
   "cell_type": "code",
   "execution_count": 16,
   "metadata": {},
   "outputs": [
    {
     "name": "stdout",
     "output_type": "stream",
     "text": [
      "0 (\"Udi's Pepperoni Pizza\", 1.0)\n",
      "1 ('Pocket Watch Wall Clock Distressed Black - Yosemite Home Decor174', 1.0)\n",
      "2 ('Kenroy Home Table Lamp - Chrome', 1.0)\n",
      "3 ('High-Dome Floor Door Stop', 1.0)\n",
      "4 ('Gone Fishing Titanized Fisherman Pliers with Braid Cutter', 1.0)\n",
      "5 ('One Grace Place Terrific Tie Dye Throw Pillow Car (13x9x3)', 1.0)\n",
      "6 (\"Newman's Own Beef & Broccoli Complete Skillet Meal\", 1.0)\n",
      "7 ('No-Ad Sport Continuous Spray Sunblock, SPF 30', 1.0)\n",
      "8 ('99179 - Fit System 01-05 Civic Replacement Mirror Glass, Driver Side - check description for fitment details', 1.0)\n",
      "9 ('Dremel VC490 Velocity Universal Panel Cutting Blade', 1.0)\n"
     ]
    }
   ],
   "source": [
    "sort_products = sorted(reviewResults.items(), key=lambda x: x[1], reverse=False)\n",
    "sort_products = sort_products[:10]\n",
    "for count, i in enumerate(sort_products):\n",
    "    print(count, i)"
   ]
  },
  {
   "cell_type": "code",
   "execution_count": null,
   "metadata": {},
   "outputs": [],
   "source": []
  }
 ],
 "metadata": {
  "kernelspec": {
   "display_name": "Python 3",
   "language": "python",
   "name": "python3"
  },
  "language_info": {
   "codemirror_mode": {
    "name": "ipython",
    "version": 3
   },
   "file_extension": ".py",
   "mimetype": "text/x-python",
   "name": "python",
   "nbconvert_exporter": "python",
   "pygments_lexer": "ipython3",
   "version": "3.7.2-final"
  }
 },
 "nbformat": 4,
 "nbformat_minor": 2
}