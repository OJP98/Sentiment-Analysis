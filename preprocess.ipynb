{
 "metadata": {
  "language_info": {
   "codemirror_mode": {
    "name": "ipython",
    "version": 3
   },
   "file_extension": ".py",
   "mimetype": "text/x-python",
   "name": "python",
   "nbconvert_exporter": "python",
   "pygments_lexer": "ipython3",
   "version": "3.8.3-final"
  },
  "orig_nbformat": 2,
  "kernelspec": {
   "name": "python_defaultSpec_1598398617334",
   "display_name": "Python 3.8.3 64-bit"
  }
 },
 "nbformat": 4,
 "nbformat_minor": 2,
 "cells": [
  {
   "cell_type": "markdown",
   "metadata": {},
   "source": [
    "# Laboratorio #4 - Análisis de sentimientos\n",
    "* Oscar Juárez - 17315\n",
    "* José Pablo Cifuentes - 17509\n",
    "* Paul Belches - 17088"
   ]
  },
  {
   "cell_type": "code",
   "execution_count": null,
   "metadata": {},
   "outputs": [],
   "source": [
    "import pandas as pd\n",
    "import re"
   ]
  },
  {
   "cell_type": "code",
   "execution_count": null,
   "metadata": {
    "tags": []
   },
   "outputs": [],
   "source": [
    "df = pd.read_csv('./files/GrammarandProductReviews.csv')\n",
    "print([var for var in df])"
   ]
  },
  {
   "cell_type": "code",
   "execution_count": null,
   "metadata": {},
   "outputs": [],
   "source": [
    "clean_df = df[['brand', 'manufacturer', 'name', 'reviews.username', 'reviews.didPurchase', 'reviews.doRecommend', 'reviews.rating', 'reviews.text']].copy()\n",
    "clean_df"
   ]
  },
  {
   "cell_type": "code",
   "execution_count": null,
   "metadata": {
    "tags": []
   },
   "outputs": [],
   "source": [
    "clean_reviews = []\n",
    "\n",
    "for line in clean_df['reviews.text']:\n",
    "    line = str(line)\n",
    "    # Quitar saltos de linea y convertirlo a minusculas\n",
    "    line = line.rstrip('\\n').lower()\n",
    "    # Quitar URLS\n",
    "    line = re.sub(r'^https?:\\/\\/.[\\r\\n]', '', line)\n",
    "    # Quitar el resto de expresiones regulares, excepto . ? ! y '\n",
    "    line = re.sub(r\"[^\\w.?!\\d'\\s]\", '', line)\n",
    "    # Quitar números\n",
    "    line = re.sub(' \\d+', ' ', line)\n",
    "    # Quitar espacios extra\n",
    "    line = line.strip(' \\t\\n\\r')\n",
    "    # Reemplazar ! y ? por puntos.\n",
    "    line = line.replace('!','.').replace('?','.')\n",
    "    # Quitar multiples puntos por solo uno\n",
    "    line = re.sub(r'\\.+', \".\", line)\n",
    "    # Finalmente, quitamos apostrofes\n",
    "    line = line.replace(\"'\", '')\n",
    "\n",
    "    clean_reviews.append(line)"
   ]
  },
  {
   "cell_type": "code",
   "execution_count": null,
   "metadata": {
    "tags": []
   },
   "outputs": [],
   "source": [
    "clean_df['reviews.text'] = clean_reviews"
   ]
  },
  {
   "cell_type": "code",
   "execution_count": null,
   "metadata": {},
   "outputs": [],
   "source": [
    "df = pd.DataFrame(clean_df)\n",
    "df.to_csv('./files/CleanData.csv', index=False)\n"
   ]
  }
 ]
}